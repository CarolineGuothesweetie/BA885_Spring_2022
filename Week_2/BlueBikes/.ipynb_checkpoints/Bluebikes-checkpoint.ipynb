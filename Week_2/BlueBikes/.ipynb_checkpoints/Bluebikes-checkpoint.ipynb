{
 "cells": [
  {
   "cell_type": "markdown",
   "metadata": {
    "id": "xChPv3G4T406"
   },
   "source": [
    "# Data exploration and cleaning"
   ]
  },
  {
   "cell_type": "markdown",
   "metadata": {
    "id": "-Ynoj5CsUACI"
   },
   "source": [
    "Imagine you work at BlueBikes, the bike sharing company in charge of the blue bikes in and around Boston. You're developing an app and one of the functions is to estimate the travel time between two stations. How would you go about solving this problem?\n",
    "\n",
    "Data from [BlueBikes](https://www.bluebikes.com/system-data). We will look at the most recent trip histories (02/20220) [here](https://s3.amazonaws.com/hubway-data/202202-bluebikes-tripdata.zip)."
   ]
  },
  {
   "cell_type": "code",
   "execution_count": 55,
   "metadata": {
    "id": "hvAp6cQIT_I0"
   },
   "outputs": [],
   "source": [
    "import pandas as pd\n",
    "from sklearn.metrics.pairwise import haversine_distances\n",
    "from math import radians\n",
    "\n",
    "earth_radius = 6371.0\n",
    "\n",
    "pd.set_option('display.max_columns', None)"
   ]
  },
  {
   "cell_type": "code",
   "execution_count": 56,
   "metadata": {},
   "outputs": [
    {
     "data": {
      "text/plain": [
       "'/home/nima/Data/Teaching/temp'"
      ]
     },
     "execution_count": 56,
     "metadata": {},
     "output_type": "execute_result"
    }
   ],
   "source": [
    "pwd"
   ]
  },
  {
   "cell_type": "code",
   "execution_count": 57,
   "metadata": {
    "id": "I3kvKDuVU02h"
   },
   "outputs": [
    {
     "data": {
      "text/plain": [
       "(110460, 14)"
      ]
     },
     "execution_count": 57,
     "metadata": {},
     "output_type": "execute_result"
    }
   ],
   "source": [
    "path_to_file = '202202-bluebikes-tripdata.csv'\n",
    "trip_histories = pd.read_csv(path_to_file)\n",
    "\n",
    "trip_histories.shape"
   ]
  },
  {
   "cell_type": "code",
   "execution_count": 58,
   "metadata": {
    "colab": {
     "base_uri": "https://localhost:8080/",
     "height": 780
    },
    "id": "yRlyUXUfVd6i",
    "outputId": "dbc8d2d9-b0a3-4bff-d367-67dc12dce764"
   },
   "outputs": [
    {
     "data": {
      "text/html": [
       "<div>\n",
       "<style scoped>\n",
       "    .dataframe tbody tr th:only-of-type {\n",
       "        vertical-align: middle;\n",
       "    }\n",
       "\n",
       "    .dataframe tbody tr th {\n",
       "        vertical-align: top;\n",
       "    }\n",
       "\n",
       "    .dataframe thead th {\n",
       "        text-align: right;\n",
       "    }\n",
       "</style>\n",
       "<table border=\"1\" class=\"dataframe\">\n",
       "  <thead>\n",
       "    <tr style=\"text-align: right;\">\n",
       "      <th></th>\n",
       "      <th>tripduration</th>\n",
       "      <th>starttime</th>\n",
       "      <th>stoptime</th>\n",
       "      <th>start station id</th>\n",
       "      <th>start station name</th>\n",
       "      <th>start station latitude</th>\n",
       "      <th>start station longitude</th>\n",
       "      <th>end station id</th>\n",
       "      <th>end station name</th>\n",
       "      <th>end station latitude</th>\n",
       "      <th>end station longitude</th>\n",
       "      <th>bikeid</th>\n",
       "      <th>usertype</th>\n",
       "      <th>postal code</th>\n",
       "    </tr>\n",
       "  </thead>\n",
       "  <tbody>\n",
       "    <tr>\n",
       "      <th>0</th>\n",
       "      <td>457</td>\n",
       "      <td>2022-02-01 00:01:22.5160</td>\n",
       "      <td>2022-02-01 00:09:00.2370</td>\n",
       "      <td>380</td>\n",
       "      <td>Mass Ave at Albany St</td>\n",
       "      <td>42.361358</td>\n",
       "      <td>-71.096703</td>\n",
       "      <td>116</td>\n",
       "      <td>359 Broadway - Broadway at Fayette Street</td>\n",
       "      <td>42.370803</td>\n",
       "      <td>-71.104412</td>\n",
       "      <td>6720</td>\n",
       "      <td>Subscriber</td>\n",
       "      <td>02139</td>\n",
       "    </tr>\n",
       "    <tr>\n",
       "      <th>1</th>\n",
       "      <td>596</td>\n",
       "      <td>2022-02-01 00:01:39.3630</td>\n",
       "      <td>2022-02-01 00:11:35.5800</td>\n",
       "      <td>68</td>\n",
       "      <td>Central Square at Mass Ave / Essex St</td>\n",
       "      <td>42.365070</td>\n",
       "      <td>-71.103100</td>\n",
       "      <td>544</td>\n",
       "      <td>Old Morse Park at Putnam Ave</td>\n",
       "      <td>42.357662</td>\n",
       "      <td>-71.108413</td>\n",
       "      <td>5148</td>\n",
       "      <td>Subscriber</td>\n",
       "      <td>02139</td>\n",
       "    </tr>\n",
       "    <tr>\n",
       "      <th>2</th>\n",
       "      <td>927</td>\n",
       "      <td>2022-02-01 00:02:41.5460</td>\n",
       "      <td>2022-02-01 00:18:08.8330</td>\n",
       "      <td>192</td>\n",
       "      <td>Purchase St at Pearl St</td>\n",
       "      <td>42.354659</td>\n",
       "      <td>-71.053181</td>\n",
       "      <td>327</td>\n",
       "      <td>Main St at Thompson Sq</td>\n",
       "      <td>42.374878</td>\n",
       "      <td>-71.063835</td>\n",
       "      <td>5780</td>\n",
       "      <td>Subscriber</td>\n",
       "      <td>02129</td>\n",
       "    </tr>\n",
       "    <tr>\n",
       "      <th>3</th>\n",
       "      <td>1541</td>\n",
       "      <td>2022-02-01 00:02:53.7400</td>\n",
       "      <td>2022-02-01 00:28:35.2070</td>\n",
       "      <td>380</td>\n",
       "      <td>Mass Ave at Albany St</td>\n",
       "      <td>42.361358</td>\n",
       "      <td>-71.096703</td>\n",
       "      <td>73</td>\n",
       "      <td>Harvard Square at Brattle St / Eliot St</td>\n",
       "      <td>42.373329</td>\n",
       "      <td>-71.120986</td>\n",
       "      <td>5957</td>\n",
       "      <td>Subscriber</td>\n",
       "      <td>02139</td>\n",
       "    </tr>\n",
       "    <tr>\n",
       "      <th>4</th>\n",
       "      <td>1165</td>\n",
       "      <td>2022-02-01 00:03:14.9160</td>\n",
       "      <td>2022-02-01 00:22:40.2040</td>\n",
       "      <td>55</td>\n",
       "      <td>Boylston St at Massachusetts Ave</td>\n",
       "      <td>42.347406</td>\n",
       "      <td>-71.086784</td>\n",
       "      <td>331</td>\n",
       "      <td>Huntington Ave at Mass Art</td>\n",
       "      <td>42.336586</td>\n",
       "      <td>-71.098870</td>\n",
       "      <td>2870</td>\n",
       "      <td>Subscriber</td>\n",
       "      <td>02215</td>\n",
       "    </tr>\n",
       "    <tr>\n",
       "      <th>...</th>\n",
       "      <td>...</td>\n",
       "      <td>...</td>\n",
       "      <td>...</td>\n",
       "      <td>...</td>\n",
       "      <td>...</td>\n",
       "      <td>...</td>\n",
       "      <td>...</td>\n",
       "      <td>...</td>\n",
       "      <td>...</td>\n",
       "      <td>...</td>\n",
       "      <td>...</td>\n",
       "      <td>...</td>\n",
       "      <td>...</td>\n",
       "      <td>...</td>\n",
       "    </tr>\n",
       "    <tr>\n",
       "      <th>110455</th>\n",
       "      <td>351</td>\n",
       "      <td>2022-02-28 23:59:14.2560</td>\n",
       "      <td>2022-03-01 00:05:06.0610</td>\n",
       "      <td>378</td>\n",
       "      <td>191 Beacon St</td>\n",
       "      <td>42.380323</td>\n",
       "      <td>-71.108786</td>\n",
       "      <td>74</td>\n",
       "      <td>Harvard Square at Mass Ave/ Dunster</td>\n",
       "      <td>42.373268</td>\n",
       "      <td>-71.118579</td>\n",
       "      <td>6620</td>\n",
       "      <td>Subscriber</td>\n",
       "      <td>02116</td>\n",
       "    </tr>\n",
       "    <tr>\n",
       "      <th>110456</th>\n",
       "      <td>220</td>\n",
       "      <td>2022-02-28 23:59:18.3290</td>\n",
       "      <td>2022-03-01 00:02:58.7550</td>\n",
       "      <td>177</td>\n",
       "      <td>University Park</td>\n",
       "      <td>42.362648</td>\n",
       "      <td>-71.100061</td>\n",
       "      <td>107</td>\n",
       "      <td>Ames St at Main St</td>\n",
       "      <td>42.362500</td>\n",
       "      <td>-71.088220</td>\n",
       "      <td>5718</td>\n",
       "      <td>Subscriber</td>\n",
       "      <td>02139</td>\n",
       "    </tr>\n",
       "    <tr>\n",
       "      <th>110457</th>\n",
       "      <td>281</td>\n",
       "      <td>2022-02-28 23:59:18.7310</td>\n",
       "      <td>2022-03-01 00:04:00.6370</td>\n",
       "      <td>67</td>\n",
       "      <td>MIT at Mass Ave / Amherst St</td>\n",
       "      <td>42.358100</td>\n",
       "      <td>-71.093198</td>\n",
       "      <td>179</td>\n",
       "      <td>MIT Vassar St</td>\n",
       "      <td>42.355601</td>\n",
       "      <td>-71.103945</td>\n",
       "      <td>2768</td>\n",
       "      <td>Subscriber</td>\n",
       "      <td>02139</td>\n",
       "    </tr>\n",
       "    <tr>\n",
       "      <th>110458</th>\n",
       "      <td>225</td>\n",
       "      <td>2022-02-28 23:59:30.7720</td>\n",
       "      <td>2022-03-01 00:03:16.3230</td>\n",
       "      <td>190</td>\n",
       "      <td>Nashua Street at Red Auerbach Way</td>\n",
       "      <td>42.365673</td>\n",
       "      <td>-71.064263</td>\n",
       "      <td>549</td>\n",
       "      <td>Valenti Way at Haverhill St</td>\n",
       "      <td>42.364739</td>\n",
       "      <td>-71.059349</td>\n",
       "      <td>3645</td>\n",
       "      <td>Subscriber</td>\n",
       "      <td>02114</td>\n",
       "    </tr>\n",
       "    <tr>\n",
       "      <th>110459</th>\n",
       "      <td>1443</td>\n",
       "      <td>2022-02-28 23:59:46.8630</td>\n",
       "      <td>2022-03-01 00:23:50.8470</td>\n",
       "      <td>520</td>\n",
       "      <td>Salem MBTA - Washington at Federal St</td>\n",
       "      <td>42.523452</td>\n",
       "      <td>-70.896111</td>\n",
       "      <td>522</td>\n",
       "      <td>Salem State University - Bike Path at Loring Ave</td>\n",
       "      <td>42.501824</td>\n",
       "      <td>-70.894781</td>\n",
       "      <td>4986</td>\n",
       "      <td>Subscriber</td>\n",
       "      <td>02115</td>\n",
       "    </tr>\n",
       "  </tbody>\n",
       "</table>\n",
       "<p>110460 rows × 14 columns</p>\n",
       "</div>"
      ],
      "text/plain": [
       "        tripduration                 starttime                  stoptime  \\\n",
       "0                457  2022-02-01 00:01:22.5160  2022-02-01 00:09:00.2370   \n",
       "1                596  2022-02-01 00:01:39.3630  2022-02-01 00:11:35.5800   \n",
       "2                927  2022-02-01 00:02:41.5460  2022-02-01 00:18:08.8330   \n",
       "3               1541  2022-02-01 00:02:53.7400  2022-02-01 00:28:35.2070   \n",
       "4               1165  2022-02-01 00:03:14.9160  2022-02-01 00:22:40.2040   \n",
       "...              ...                       ...                       ...   \n",
       "110455           351  2022-02-28 23:59:14.2560  2022-03-01 00:05:06.0610   \n",
       "110456           220  2022-02-28 23:59:18.3290  2022-03-01 00:02:58.7550   \n",
       "110457           281  2022-02-28 23:59:18.7310  2022-03-01 00:04:00.6370   \n",
       "110458           225  2022-02-28 23:59:30.7720  2022-03-01 00:03:16.3230   \n",
       "110459          1443  2022-02-28 23:59:46.8630  2022-03-01 00:23:50.8470   \n",
       "\n",
       "        start station id                     start station name  \\\n",
       "0                    380                  Mass Ave at Albany St   \n",
       "1                     68  Central Square at Mass Ave / Essex St   \n",
       "2                    192                Purchase St at Pearl St   \n",
       "3                    380                  Mass Ave at Albany St   \n",
       "4                     55       Boylston St at Massachusetts Ave   \n",
       "...                  ...                                    ...   \n",
       "110455               378                          191 Beacon St   \n",
       "110456               177                        University Park   \n",
       "110457                67           MIT at Mass Ave / Amherst St   \n",
       "110458               190      Nashua Street at Red Auerbach Way   \n",
       "110459               520  Salem MBTA - Washington at Federal St   \n",
       "\n",
       "        start station latitude  start station longitude  end station id  \\\n",
       "0                    42.361358               -71.096703             116   \n",
       "1                    42.365070               -71.103100             544   \n",
       "2                    42.354659               -71.053181             327   \n",
       "3                    42.361358               -71.096703              73   \n",
       "4                    42.347406               -71.086784             331   \n",
       "...                        ...                      ...             ...   \n",
       "110455               42.380323               -71.108786              74   \n",
       "110456               42.362648               -71.100061             107   \n",
       "110457               42.358100               -71.093198             179   \n",
       "110458               42.365673               -71.064263             549   \n",
       "110459               42.523452               -70.896111             522   \n",
       "\n",
       "                                        end station name  \\\n",
       "0              359 Broadway - Broadway at Fayette Street   \n",
       "1                           Old Morse Park at Putnam Ave   \n",
       "2                                 Main St at Thompson Sq   \n",
       "3                Harvard Square at Brattle St / Eliot St   \n",
       "4                             Huntington Ave at Mass Art   \n",
       "...                                                  ...   \n",
       "110455               Harvard Square at Mass Ave/ Dunster   \n",
       "110456                                Ames St at Main St   \n",
       "110457                                     MIT Vassar St   \n",
       "110458                       Valenti Way at Haverhill St   \n",
       "110459  Salem State University - Bike Path at Loring Ave   \n",
       "\n",
       "        end station latitude  end station longitude  bikeid    usertype  \\\n",
       "0                  42.370803             -71.104412    6720  Subscriber   \n",
       "1                  42.357662             -71.108413    5148  Subscriber   \n",
       "2                  42.374878             -71.063835    5780  Subscriber   \n",
       "3                  42.373329             -71.120986    5957  Subscriber   \n",
       "4                  42.336586             -71.098870    2870  Subscriber   \n",
       "...                      ...                    ...     ...         ...   \n",
       "110455             42.373268             -71.118579    6620  Subscriber   \n",
       "110456             42.362500             -71.088220    5718  Subscriber   \n",
       "110457             42.355601             -71.103945    2768  Subscriber   \n",
       "110458             42.364739             -71.059349    3645  Subscriber   \n",
       "110459             42.501824             -70.894781    4986  Subscriber   \n",
       "\n",
       "       postal code  \n",
       "0            02139  \n",
       "1            02139  \n",
       "2            02129  \n",
       "3            02139  \n",
       "4            02215  \n",
       "...            ...  \n",
       "110455       02116  \n",
       "110456       02139  \n",
       "110457       02139  \n",
       "110458       02114  \n",
       "110459       02115  \n",
       "\n",
       "[110460 rows x 14 columns]"
      ]
     },
     "execution_count": 58,
     "metadata": {},
     "output_type": "execute_result"
    }
   ],
   "source": [
    "trip_histories"
   ]
  },
  {
   "cell_type": "markdown",
   "metadata": {
    "id": "_OJer1QVXhTf"
   },
   "source": [
    "## Explore the data\n",
    "\n",
    "First we have to understand what the data represents: what are the features or columns, what range of values to the features take. \n",
    "\n",
    "Next we have to check if there are missing value, duplicates, contradictory data and finally outliers."
   ]
  },
  {
   "cell_type": "code",
   "execution_count": 59,
   "metadata": {
    "colab": {
     "base_uri": "https://localhost:8080/"
    },
    "id": "p65xiBtwVvmg",
    "outputId": "32bed8cf-a496-492b-d390-4563832a4a56"
   },
   "outputs": [
    {
     "data": {
      "text/plain": [
       "Index(['tripduration', 'starttime', 'stoptime', 'start station id',\n",
       "       'start station name', 'start station latitude',\n",
       "       'start station longitude', 'end station id', 'end station name',\n",
       "       'end station latitude', 'end station longitude', 'bikeid', 'usertype',\n",
       "       'postal code'],\n",
       "      dtype='object')"
      ]
     },
     "execution_count": 59,
     "metadata": {},
     "output_type": "execute_result"
    }
   ],
   "source": [
    "trip_histories.columns"
   ]
  },
  {
   "cell_type": "code",
   "execution_count": 60,
   "metadata": {
    "colab": {
     "base_uri": "https://localhost:8080/",
     "height": 300
    },
    "id": "5DtyULHqYguv",
    "outputId": "295597b3-2774-4617-966c-1b53fb462f94"
   },
   "outputs": [
    {
     "data": {
      "text/html": [
       "<div>\n",
       "<style scoped>\n",
       "    .dataframe tbody tr th:only-of-type {\n",
       "        vertical-align: middle;\n",
       "    }\n",
       "\n",
       "    .dataframe tbody tr th {\n",
       "        vertical-align: top;\n",
       "    }\n",
       "\n",
       "    .dataframe thead th {\n",
       "        text-align: right;\n",
       "    }\n",
       "</style>\n",
       "<table border=\"1\" class=\"dataframe\">\n",
       "  <thead>\n",
       "    <tr style=\"text-align: right;\">\n",
       "      <th></th>\n",
       "      <th>tripduration</th>\n",
       "      <th>start station id</th>\n",
       "      <th>start station latitude</th>\n",
       "      <th>start station longitude</th>\n",
       "      <th>end station id</th>\n",
       "      <th>end station latitude</th>\n",
       "      <th>end station longitude</th>\n",
       "      <th>bikeid</th>\n",
       "    </tr>\n",
       "  </thead>\n",
       "  <tbody>\n",
       "    <tr>\n",
       "      <th>count</th>\n",
       "      <td>1.104600e+05</td>\n",
       "      <td>110460.000000</td>\n",
       "      <td>110460.000000</td>\n",
       "      <td>110460.000000</td>\n",
       "      <td>110460.000000</td>\n",
       "      <td>110460.000000</td>\n",
       "      <td>110460.000000</td>\n",
       "      <td>110460.000000</td>\n",
       "    </tr>\n",
       "    <tr>\n",
       "      <th>mean</th>\n",
       "      <td>1.104414e+03</td>\n",
       "      <td>197.280663</td>\n",
       "      <td>42.359398</td>\n",
       "      <td>-71.094100</td>\n",
       "      <td>195.135750</td>\n",
       "      <td>42.359309</td>\n",
       "      <td>-71.093542</td>\n",
       "      <td>4895.881912</td>\n",
       "    </tr>\n",
       "    <tr>\n",
       "      <th>std</th>\n",
       "      <td>1.076689e+04</td>\n",
       "      <td>163.036025</td>\n",
       "      <td>0.016449</td>\n",
       "      <td>0.024339</td>\n",
       "      <td>162.995789</td>\n",
       "      <td>0.016460</td>\n",
       "      <td>0.024411</td>\n",
       "      <td>1613.734469</td>\n",
       "    </tr>\n",
       "    <tr>\n",
       "      <th>min</th>\n",
       "      <td>6.100000e+01</td>\n",
       "      <td>3.000000</td>\n",
       "      <td>42.255600</td>\n",
       "      <td>-71.247759</td>\n",
       "      <td>1.000000</td>\n",
       "      <td>42.255600</td>\n",
       "      <td>-71.247759</td>\n",
       "      <td>218.000000</td>\n",
       "    </tr>\n",
       "    <tr>\n",
       "      <th>25%</th>\n",
       "      <td>3.800000e+02</td>\n",
       "      <td>68.000000</td>\n",
       "      <td>42.349426</td>\n",
       "      <td>-71.108687</td>\n",
       "      <td>67.000000</td>\n",
       "      <td>42.349244</td>\n",
       "      <td>-71.108413</td>\n",
       "      <td>3485.000000</td>\n",
       "    </tr>\n",
       "    <tr>\n",
       "      <th>50%</th>\n",
       "      <td>6.010000e+02</td>\n",
       "      <td>131.000000</td>\n",
       "      <td>42.360793</td>\n",
       "      <td>-71.095315</td>\n",
       "      <td>118.000000</td>\n",
       "      <td>42.360793</td>\n",
       "      <td>-71.095171</td>\n",
       "      <td>5030.000000</td>\n",
       "    </tr>\n",
       "    <tr>\n",
       "      <th>75%</th>\n",
       "      <td>9.970000e+02</td>\n",
       "      <td>360.000000</td>\n",
       "      <td>42.368844</td>\n",
       "      <td>-71.079468</td>\n",
       "      <td>360.000000</td>\n",
       "      <td>42.368605</td>\n",
       "      <td>-71.077828</td>\n",
       "      <td>6237.000000</td>\n",
       "    </tr>\n",
       "    <tr>\n",
       "      <th>max</th>\n",
       "      <td>1.445015e+06</td>\n",
       "      <td>558.000000</td>\n",
       "      <td>42.523452</td>\n",
       "      <td>-70.889524</td>\n",
       "      <td>558.000000</td>\n",
       "      <td>42.523452</td>\n",
       "      <td>-70.889524</td>\n",
       "      <td>7653.000000</td>\n",
       "    </tr>\n",
       "  </tbody>\n",
       "</table>\n",
       "</div>"
      ],
      "text/plain": [
       "       tripduration  start station id  start station latitude  \\\n",
       "count  1.104600e+05     110460.000000           110460.000000   \n",
       "mean   1.104414e+03        197.280663               42.359398   \n",
       "std    1.076689e+04        163.036025                0.016449   \n",
       "min    6.100000e+01          3.000000               42.255600   \n",
       "25%    3.800000e+02         68.000000               42.349426   \n",
       "50%    6.010000e+02        131.000000               42.360793   \n",
       "75%    9.970000e+02        360.000000               42.368844   \n",
       "max    1.445015e+06        558.000000               42.523452   \n",
       "\n",
       "       start station longitude  end station id  end station latitude  \\\n",
       "count            110460.000000   110460.000000         110460.000000   \n",
       "mean                -71.094100      195.135750             42.359309   \n",
       "std                   0.024339      162.995789              0.016460   \n",
       "min                 -71.247759        1.000000             42.255600   \n",
       "25%                 -71.108687       67.000000             42.349244   \n",
       "50%                 -71.095315      118.000000             42.360793   \n",
       "75%                 -71.079468      360.000000             42.368605   \n",
       "max                 -70.889524      558.000000             42.523452   \n",
       "\n",
       "       end station longitude         bikeid  \n",
       "count          110460.000000  110460.000000  \n",
       "mean              -71.093542    4895.881912  \n",
       "std                 0.024411    1613.734469  \n",
       "min               -71.247759     218.000000  \n",
       "25%               -71.108413    3485.000000  \n",
       "50%               -71.095171    5030.000000  \n",
       "75%               -71.077828    6237.000000  \n",
       "max               -70.889524    7653.000000  "
      ]
     },
     "execution_count": 60,
     "metadata": {},
     "output_type": "execute_result"
    }
   ],
   "source": [
    "trip_histories.describe()"
   ]
  },
  {
   "cell_type": "code",
   "execution_count": 61,
   "metadata": {
    "colab": {
     "base_uri": "https://localhost:8080/"
    },
    "id": "tZMWOKNqYL-M",
    "outputId": "e80988a0-27d7-4f53-8968-947831fd063b"
   },
   "outputs": [
    {
     "data": {
      "text/plain": [
       "tripduration                 int64\n",
       "starttime                   object\n",
       "stoptime                    object\n",
       "start station id             int64\n",
       "start station name          object\n",
       "start station latitude     float64\n",
       "start station longitude    float64\n",
       "end station id               int64\n",
       "end station name            object\n",
       "end station latitude       float64\n",
       "end station longitude      float64\n",
       "bikeid                       int64\n",
       "usertype                    object\n",
       "postal code                 object\n",
       "dtype: object"
      ]
     },
     "execution_count": 61,
     "metadata": {},
     "output_type": "execute_result"
    }
   ],
   "source": [
    "trip_histories.dtypes"
   ]
  },
  {
   "cell_type": "code",
   "execution_count": 62,
   "metadata": {
    "colab": {
     "base_uri": "https://localhost:8080/",
     "height": 673
    },
    "id": "KoQB7tREZpG_",
    "outputId": "9dd3119b-455c-4626-fbe3-804c4b3702db"
   },
   "outputs": [
    {
     "data": {
      "text/plain": [
       "array([[<AxesSubplot:title={'center':'tripduration'}>,\n",
       "        <AxesSubplot:title={'center':'start station id'}>,\n",
       "        <AxesSubplot:title={'center':'start station latitude'}>],\n",
       "       [<AxesSubplot:title={'center':'start station longitude'}>,\n",
       "        <AxesSubplot:title={'center':'end station id'}>,\n",
       "        <AxesSubplot:title={'center':'end station latitude'}>],\n",
       "       [<AxesSubplot:title={'center':'end station longitude'}>,\n",
       "        <AxesSubplot:title={'center':'bikeid'}>, <AxesSubplot:>]],\n",
       "      dtype=object)"
      ]
     },
     "execution_count": 62,
     "metadata": {},
     "output_type": "execute_result"
    },
    {
     "data": {
      "image/png": "[encoded data removed]",
      "text/plain": [
       "<Figure size 720x576 with 9 Axes>"
      ]
     },
     "metadata": {
      "needs_background": "light"
     },
     "output_type": "display_data"
    }
   ],
   "source": [
    "trip_histories.hist(bins=20, figsize=(10,8))"
   ]
  },
  {
   "cell_type": "code",
   "execution_count": 63,
   "metadata": {
    "id": "hmLw2fjPaeqk"
   },
   "outputs": [],
   "source": [
    "binned_duration = pd.cut(trip_histories['tripduration'], bins=[300*i for i in range(15)])"
   ]
  },
  {
   "cell_type": "code",
   "execution_count": 64,
   "metadata": {
    "colab": {
     "base_uri": "https://localhost:8080/",
     "height": 343
    },
    "id": "y9HycyzlgKKe",
    "outputId": "e17eed82-35f5-4fcb-d1c1-b2d0151bde6c"
   },
   "outputs": [
    {
     "data": {
      "text/plain": [
       "<AxesSubplot:>"
      ]
     },
     "execution_count": 64,
     "metadata": {},
     "output_type": "execute_result"
    },
    {
     "data": {
      "image/png": "[encoded data removed]",
      "text/plain": [
       "<Figure size 432x288 with 1 Axes>"
      ]
     },
     "metadata": {
      "needs_background": "light"
     },
     "output_type": "display_data"
    }
   ],
   "source": [
    "pd.DataFrame(binned_duration.value_counts()).plot(kind='bar')"
   ]
  },
  {
   "cell_type": "code",
   "execution_count": 65,
   "metadata": {
    "colab": {
     "base_uri": "https://localhost:8080/"
    },
    "id": "sctj9zmMZeMl",
    "outputId": "18ec96bf-6ef8-4298-f726-66fea43085e1",
    "scrolled": true
   },
   "outputs": [
    {
     "data": {
      "text/plain": [
       "(355,)"
      ]
     },
     "execution_count": 65,
     "metadata": {},
     "output_type": "execute_result"
    }
   ],
   "source": [
    "trip_histories['start station name'].unique().shape"
   ]
  },
  {
   "cell_type": "markdown",
   "metadata": {
    "id": "6lkAZ50-oPCz"
   },
   "source": [
    "## Data Cleaning and Preprocessing"
   ]
  },
  {
   "cell_type": "markdown",
   "metadata": {
    "id": "HNekK5MIoWfu"
   },
   "source": [
    "- Remove entries with too many missing values\n",
    "- Remove duplicates\n",
    "- Remove samples that are not relevant to the problem\n",
    "- Remove irrelevant features\n",
    "- Engineer better features\n",
    "- Assign numerical value to all features\n",
    "- Normalize the numerical values ~ mean=0 and std=1"
   ]
  },
  {
   "cell_type": "code",
   "execution_count": 85,
   "metadata": {
    "colab": {
     "base_uri": "https://localhost:8080/"
    },
    "id": "5YOsLuuwZTJI",
    "outputId": "e20fe032-4271-4268-89d7-eb11dd2ab3c4"
   },
   "outputs": [
    {
     "data": {
      "text/plain": [
       "tripduration                  0\n",
       "starttime                     0\n",
       "stoptime                      0\n",
       "start station id              0\n",
       "start station name            0\n",
       "start station latitude        0\n",
       "start station longitude       0\n",
       "end station id                0\n",
       "end station name              0\n",
       "end station latitude          0\n",
       "end station longitude         0\n",
       "bikeid                        0\n",
       "usertype                      0\n",
       "postal code                4688\n",
       "distance                      0\n",
       "binned duration               2\n",
       "dtype: int64"
      ]
     },
     "execution_count": 85,
     "metadata": {},
     "output_type": "execute_result"
    }
   ],
   "source": [
    "# Check for missing data\n",
    "trip_histories.isna().sum()"
   ]
  },
  {
   "cell_type": "code",
   "execution_count": 86,
   "metadata": {},
   "outputs": [
    {
     "data": {
      "text/plain": [
       "0"
      ]
     },
     "execution_count": 86,
     "metadata": {},
     "output_type": "execute_result"
    }
   ],
   "source": [
    "# Check for duplicates\n",
    "trip_histories.duplicated().sum()"
   ]
  },
  {
   "cell_type": "markdown",
   "metadata": {},
   "source": [
    "It's rare to catch duplicates so easily! Most often duplicates will have missing data or are recorded in a different format. Features that take float values are often the best features to focus on when looking for duplicates."
   ]
  },
  {
   "cell_type": "code",
   "execution_count": 87,
   "metadata": {
    "id": "RRcrH___hwqD",
    "scrolled": true
   },
   "outputs": [
    {
     "data": {
      "text/plain": [
       "(106534,)"
      ]
     },
     "execution_count": 87,
     "metadata": {},
     "output_type": "execute_result"
    }
   ],
   "source": [
    "trip_histories['starttime'].unique().shape"
   ]
  },
  {
   "cell_type": "code",
   "execution_count": 69,
   "metadata": {},
   "outputs": [
    {
     "data": {
      "text/plain": [
       "(110457,)"
      ]
     },
     "execution_count": 69,
     "metadata": {},
     "output_type": "execute_result"
    }
   ],
   "source": [
    "trip_histories['stoptime'].unique().shape"
   ]
  },
  {
   "cell_type": "code",
   "execution_count": 70,
   "metadata": {},
   "outputs": [
    {
     "data": {
      "text/plain": [
       "0"
      ]
     },
     "execution_count": 70,
     "metadata": {},
     "output_type": "execute_result"
    }
   ],
   "source": [
    "trip_histories[['starttime', 'stoptime']].duplicated().sum()"
   ]
  },
  {
   "cell_type": "markdown",
   "metadata": {},
   "source": [
    "We are interested in trip durations from A to B (A != B), thus roundtrips need to be removed."
   ]
  },
  {
   "cell_type": "code",
   "execution_count": 71,
   "metadata": {
    "scrolled": true
   },
   "outputs": [
    {
     "data": {
      "text/plain": [
       "3673"
      ]
     },
     "execution_count": 71,
     "metadata": {},
     "output_type": "execute_result"
    }
   ],
   "source": [
    "mask_rt = (trip_histories['start station id'] == trip_histories['end station id'])\n",
    "mask_rt.sum()"
   ]
  },
  {
   "cell_type": "code",
   "execution_count": 72,
   "metadata": {
    "scrolled": true
   },
   "outputs": [
    {
     "data": {
      "text/plain": [
       "(110460, 14)"
      ]
     },
     "execution_count": 72,
     "metadata": {},
     "output_type": "execute_result"
    }
   ],
   "source": [
    "trip_histories.shape"
   ]
  },
  {
   "cell_type": "code",
   "execution_count": 73,
   "metadata": {
    "scrolled": true
   },
   "outputs": [
    {
     "data": {
      "text/plain": [
       "(106787, 14)"
      ]
     },
     "execution_count": 73,
     "metadata": {},
     "output_type": "execute_result"
    }
   ],
   "source": [
    "trip_histories = trip_histories.drop(trip_histories[mask_rt].index)\n",
    "trip_histories.shape"
   ]
  },
  {
   "cell_type": "markdown",
   "metadata": {},
   "source": [
    "We should also remove trips that are not simple commutes."
   ]
  },
  {
   "cell_type": "code",
   "execution_count": 74,
   "metadata": {},
   "outputs": [],
   "source": [
    "trip_histories['distance'] = trip_histories.apply(lambda row: \n",
    "                                                  haversine_distances(\n",
    "                                                      [[radians(row['start station latitude']), \n",
    "                                                       radians(row['start station longitude'])],\n",
    "                                                      [radians(row['end station latitude']),\n",
    "                                                       radians(row['end station longitude'])]])[1,0]*earth_radius,\n",
    "                                                  axis=1)"
   ]
  },
  {
   "cell_type": "code",
   "execution_count": 75,
   "metadata": {},
   "outputs": [
    {
     "data": {
      "text/plain": [
       "<AxesSubplot:xlabel='tripduration', ylabel='distance'>"
      ]
     },
     "execution_count": 75,
     "metadata": {},
     "output_type": "execute_result"
    },
    {
     "data": {
      "image/png": "[encoded data removed]",
      "text/plain": [
       "<Figure size 432x288 with 1 Axes>"
      ]
     },
     "metadata": {
      "needs_background": "light"
     },
     "output_type": "display_data"
    }
   ],
   "source": [
    "trip_histories[['tripduration', 'distance']].plot(kind='scatter', x='tripduration', y='distance')"
   ]
  },
  {
   "cell_type": "code",
   "execution_count": 76,
   "metadata": {},
   "outputs": [
    {
     "data": {
      "text/plain": [
       "244"
      ]
     },
     "execution_count": 76,
     "metadata": {},
     "output_type": "execute_result"
    }
   ],
   "source": [
    "mask_ld = trip_histories['tripduration'] > 10000\n",
    "mask_ld.sum()"
   ]
  },
  {
   "cell_type": "code",
   "execution_count": 77,
   "metadata": {},
   "outputs": [
    {
     "data": {
      "text/plain": [
       "(106543, 15)"
      ]
     },
     "execution_count": 77,
     "metadata": {},
     "output_type": "execute_result"
    }
   ],
   "source": [
    "mask_ld = trip_histories['tripduration'] > 10000\n",
    "trip_histories = trip_histories.drop(trip_histories[mask_ld].index)\n",
    "trip_histories.shape"
   ]
  },
  {
   "cell_type": "code",
   "execution_count": 78,
   "metadata": {},
   "outputs": [
    {
     "data": {
      "text/plain": [
       "<AxesSubplot:xlabel='tripduration', ylabel='distance'>"
      ]
     },
     "execution_count": 78,
     "metadata": {},
     "output_type": "execute_result"
    },
    {
     "data": {
      "image/png": "[encoded data removed]",
      "text/plain": [
       "<Figure size 432x288 with 1 Axes>"
      ]
     },
     "metadata": {
      "needs_background": "light"
     },
     "output_type": "display_data"
    }
   ],
   "source": [
    "trip_histories[['tripduration', 'distance']].plot(kind='scatter', x='tripduration', y='distance')"
   ]
  },
  {
   "cell_type": "code",
   "execution_count": 79,
   "metadata": {},
   "outputs": [],
   "source": [
    "trip_histories['binned duration'] = pd.cut(trip_histories['tripduration'], bins=[300*i for i in range(34)])"
   ]
  },
  {
   "cell_type": "code",
   "execution_count": 80,
   "metadata": {},
   "outputs": [
    {
     "data": {
      "text/plain": [
       "True"
      ]
     },
     "execution_count": 80,
     "metadata": {},
     "output_type": "execute_result"
    }
   ],
   "source": [
    "trip_histories['binned duration'][0] == pd.Interval(300,600,closed='right')"
   ]
  },
  {
   "cell_type": "code",
   "execution_count": 81,
   "metadata": {},
   "outputs": [],
   "source": [
    "duration_bins = {i: pd.Interval(i*300, (i+1)*300, closed='right') for i in range(34)}\n",
    "duration_bins_r = {y: x for x, y in duration_bins.items()}"
   ]
  },
  {
   "cell_type": "code",
   "execution_count": 82,
   "metadata": {},
   "outputs": [],
   "source": [
    "trip_histories['binned duration'] = trip_histories['binned duration'].map(duration_bins_r)"
   ]
  },
  {
   "cell_type": "code",
   "execution_count": 83,
   "metadata": {},
   "outputs": [
    {
     "data": {
      "text/plain": [
       "<AxesSubplot:xlabel='duration', ylabel='distance'>"
      ]
     },
     "execution_count": 83,
     "metadata": {},
     "output_type": "execute_result"
    },
    {
     "data": {
      "image/png": "[encoded data removed]",
      "text/plain": [
       "<Figure size 432x288 with 1 Axes>"
      ]
     },
     "metadata": {
      "needs_background": "light"
     },
     "output_type": "display_data"
    }
   ],
   "source": [
    "pd.DataFrame(\n",
    "    [[i, trip_histories[trip_histories['binned duration'] == i]['distance'].mean()] for i in range(34)],\n",
    "    columns = ['duration', 'distance']\n",
    ").plot(kind='scatter', x='duration', y='distance')"
   ]
  },
  {
   "cell_type": "code",
   "execution_count": 84,
   "metadata": {},
   "outputs": [
    {
     "data": {
      "text/plain": [
       "102162"
      ]
     },
     "execution_count": 84,
     "metadata": {},
     "output_type": "execute_result"
    }
   ],
   "source": [
    "(trip_histories['binned duration'] < 7).sum()"
   ]
  },
  {
   "cell_type": "markdown",
   "metadata": {},
   "source": [
    "This looks like something we can work with. Note that in our units, duration > 7 translates over 35 minutes. It is reasonable to assume that the data beyond this point is skewed and a significant number of such trips are not commutes. If we limit only use trips that took less that 35' a simple linear regression can estimate travel time pretty well."
   ]
  },
  {
   "cell_type": "markdown",
   "metadata": {
    "id": "ljcnc6heoRQ8"
   },
   "source": [
    "### Irrelevant features"
   ]
  },
  {
   "cell_type": "code",
   "execution_count": 14,
   "metadata": {},
   "outputs": [
    {
     "data": {
      "text/plain": [
       "Index(['tripduration', 'starttime', 'stoptime', 'start station id',\n",
       "       'start station name', 'start station latitude',\n",
       "       'start station longitude', 'end station id', 'end station name',\n",
       "       'end station latitude', 'end station longitude', 'bikeid', 'usertype',\n",
       "       'postal code'],\n",
       "      dtype='object')"
      ]
     },
     "execution_count": 14,
     "metadata": {},
     "output_type": "execute_result"
    }
   ],
   "source": [
    "trip_histories.columns"
   ]
  },
  {
   "cell_type": "code",
   "execution_count": 89,
   "metadata": {},
   "outputs": [
    {
     "data": {
      "text/plain": [
       "0         False\n",
       "1         False\n",
       "2         False\n",
       "3          True\n",
       "4         False\n",
       "          ...  \n",
       "110455     True\n",
       "110456     True\n",
       "110457     True\n",
       "110458     True\n",
       "110459     True\n",
       "Length: 106543, dtype: bool"
      ]
     },
     "execution_count": 89,
     "metadata": {},
     "output_type": "execute_result"
    }
   ],
   "source": [
    "trip_histories[['start station id', 'start station latitude', 'start station longitude']].duplicated()"
   ]
  },
  {
   "cell_type": "code",
   "execution_count": 19,
   "metadata": {},
   "outputs": [],
   "source": [
    "trip_histories = trip_histories.drop(labels = ['stoptime',\n",
    "                                               'start station id',\n",
    "                                               'start station name',\n",
    "                                               'end station id',\n",
    "                                               'end station name',\n",
    "                                               'bikeid'], axis=1)"
   ]
  },
  {
   "cell_type": "code",
   "execution_count": 20,
   "metadata": {},
   "outputs": [
    {
     "data": {
      "text/html": [
       "<div>\n",
       "<style scoped>\n",
       "    .dataframe tbody tr th:only-of-type {\n",
       "        vertical-align: middle;\n",
       "    }\n",
       "\n",
       "    .dataframe tbody tr th {\n",
       "        vertical-align: top;\n",
       "    }\n",
       "\n",
       "    .dataframe thead th {\n",
       "        text-align: right;\n",
       "    }\n",
       "</style>\n",
       "<table border=\"1\" class=\"dataframe\">\n",
       "  <thead>\n",
       "    <tr style=\"text-align: right;\">\n",
       "      <th></th>\n",
       "      <th>tripduration</th>\n",
       "      <th>starttime</th>\n",
       "      <th>start station latitude</th>\n",
       "      <th>start station longitude</th>\n",
       "      <th>end station latitude</th>\n",
       "      <th>end station longitude</th>\n",
       "      <th>usertype</th>\n",
       "      <th>postal code</th>\n",
       "    </tr>\n",
       "  </thead>\n",
       "  <tbody>\n",
       "    <tr>\n",
       "      <th>0</th>\n",
       "      <td>457</td>\n",
       "      <td>2022-02-01 00:01:22.5160</td>\n",
       "      <td>42.361358</td>\n",
       "      <td>-71.096703</td>\n",
       "      <td>42.370803</td>\n",
       "      <td>-71.104412</td>\n",
       "      <td>Subscriber</td>\n",
       "      <td>02139</td>\n",
       "    </tr>\n",
       "    <tr>\n",
       "      <th>1</th>\n",
       "      <td>596</td>\n",
       "      <td>2022-02-01 00:01:39.3630</td>\n",
       "      <td>42.365070</td>\n",
       "      <td>-71.103100</td>\n",
       "      <td>42.357662</td>\n",
       "      <td>-71.108413</td>\n",
       "      <td>Subscriber</td>\n",
       "      <td>02139</td>\n",
       "    </tr>\n",
       "    <tr>\n",
       "      <th>2</th>\n",
       "      <td>927</td>\n",
       "      <td>2022-02-01 00:02:41.5460</td>\n",
       "      <td>42.354659</td>\n",
       "      <td>-71.053181</td>\n",
       "      <td>42.374878</td>\n",
       "      <td>-71.063835</td>\n",
       "      <td>Subscriber</td>\n",
       "      <td>02129</td>\n",
       "    </tr>\n",
       "    <tr>\n",
       "      <th>3</th>\n",
       "      <td>1541</td>\n",
       "      <td>2022-02-01 00:02:53.7400</td>\n",
       "      <td>42.361358</td>\n",
       "      <td>-71.096703</td>\n",
       "      <td>42.373329</td>\n",
       "      <td>-71.120986</td>\n",
       "      <td>Subscriber</td>\n",
       "      <td>02139</td>\n",
       "    </tr>\n",
       "    <tr>\n",
       "      <th>4</th>\n",
       "      <td>1165</td>\n",
       "      <td>2022-02-01 00:03:14.9160</td>\n",
       "      <td>42.347406</td>\n",
       "      <td>-71.086784</td>\n",
       "      <td>42.336586</td>\n",
       "      <td>-71.098870</td>\n",
       "      <td>Subscriber</td>\n",
       "      <td>02215</td>\n",
       "    </tr>\n",
       "    <tr>\n",
       "      <th>...</th>\n",
       "      <td>...</td>\n",
       "      <td>...</td>\n",
       "      <td>...</td>\n",
       "      <td>...</td>\n",
       "      <td>...</td>\n",
       "      <td>...</td>\n",
       "      <td>...</td>\n",
       "      <td>...</td>\n",
       "    </tr>\n",
       "    <tr>\n",
       "      <th>110455</th>\n",
       "      <td>351</td>\n",
       "      <td>2022-02-28 23:59:14.2560</td>\n",
       "      <td>42.380323</td>\n",
       "      <td>-71.108786</td>\n",
       "      <td>42.373268</td>\n",
       "      <td>-71.118579</td>\n",
       "      <td>Subscriber</td>\n",
       "      <td>02116</td>\n",
       "    </tr>\n",
       "    <tr>\n",
       "      <th>110456</th>\n",
       "      <td>220</td>\n",
       "      <td>2022-02-28 23:59:18.3290</td>\n",
       "      <td>42.362648</td>\n",
       "      <td>-71.100061</td>\n",
       "      <td>42.362500</td>\n",
       "      <td>-71.088220</td>\n",
       "      <td>Subscriber</td>\n",
       "      <td>02139</td>\n",
       "    </tr>\n",
       "    <tr>\n",
       "      <th>110457</th>\n",
       "      <td>281</td>\n",
       "      <td>2022-02-28 23:59:18.7310</td>\n",
       "      <td>42.358100</td>\n",
       "      <td>-71.093198</td>\n",
       "      <td>42.355601</td>\n",
       "      <td>-71.103945</td>\n",
       "      <td>Subscriber</td>\n",
       "      <td>02139</td>\n",
       "    </tr>\n",
       "    <tr>\n",
       "      <th>110458</th>\n",
       "      <td>225</td>\n",
       "      <td>2022-02-28 23:59:30.7720</td>\n",
       "      <td>42.365673</td>\n",
       "      <td>-71.064263</td>\n",
       "      <td>42.364739</td>\n",
       "      <td>-71.059349</td>\n",
       "      <td>Subscriber</td>\n",
       "      <td>02114</td>\n",
       "    </tr>\n",
       "    <tr>\n",
       "      <th>110459</th>\n",
       "      <td>1443</td>\n",
       "      <td>2022-02-28 23:59:46.8630</td>\n",
       "      <td>42.523452</td>\n",
       "      <td>-70.896111</td>\n",
       "      <td>42.501824</td>\n",
       "      <td>-70.894781</td>\n",
       "      <td>Subscriber</td>\n",
       "      <td>02115</td>\n",
       "    </tr>\n",
       "  </tbody>\n",
       "</table>\n",
       "<p>110460 rows × 8 columns</p>\n",
       "</div>"
      ],
      "text/plain": [
       "        tripduration                 starttime  start station latitude  \\\n",
       "0                457  2022-02-01 00:01:22.5160               42.361358   \n",
       "1                596  2022-02-01 00:01:39.3630               42.365070   \n",
       "2                927  2022-02-01 00:02:41.5460               42.354659   \n",
       "3               1541  2022-02-01 00:02:53.7400               42.361358   \n",
       "4               1165  2022-02-01 00:03:14.9160               42.347406   \n",
       "...              ...                       ...                     ...   \n",
       "110455           351  2022-02-28 23:59:14.2560               42.380323   \n",
       "110456           220  2022-02-28 23:59:18.3290               42.362648   \n",
       "110457           281  2022-02-28 23:59:18.7310               42.358100   \n",
       "110458           225  2022-02-28 23:59:30.7720               42.365673   \n",
       "110459          1443  2022-02-28 23:59:46.8630               42.523452   \n",
       "\n",
       "        start station longitude  end station latitude  end station longitude  \\\n",
       "0                    -71.096703             42.370803             -71.104412   \n",
       "1                    -71.103100             42.357662             -71.108413   \n",
       "2                    -71.053181             42.374878             -71.063835   \n",
       "3                    -71.096703             42.373329             -71.120986   \n",
       "4                    -71.086784             42.336586             -71.098870   \n",
       "...                         ...                   ...                    ...   \n",
       "110455               -71.108786             42.373268             -71.118579   \n",
       "110456               -71.100061             42.362500             -71.088220   \n",
       "110457               -71.093198             42.355601             -71.103945   \n",
       "110458               -71.064263             42.364739             -71.059349   \n",
       "110459               -70.896111             42.501824             -70.894781   \n",
       "\n",
       "          usertype postal code  \n",
       "0       Subscriber       02139  \n",
       "1       Subscriber       02139  \n",
       "2       Subscriber       02129  \n",
       "3       Subscriber       02139  \n",
       "4       Subscriber       02215  \n",
       "...            ...         ...  \n",
       "110455  Subscriber       02116  \n",
       "110456  Subscriber       02139  \n",
       "110457  Subscriber       02139  \n",
       "110458  Subscriber       02114  \n",
       "110459  Subscriber       02115  \n",
       "\n",
       "[110460 rows x 8 columns]"
      ]
     },
     "execution_count": 20,
     "metadata": {},
     "output_type": "execute_result"
    }
   ],
   "source": [
    "trip_histories"
   ]
  },
  {
   "cell_type": "code",
   "execution_count": null,
   "metadata": {},
   "outputs": [],
   "source": []
  }
 ],
 "metadata": {
  "colab": {
   "name": "Bluebikes.ipynb",
   "provenance": []
  },
  "kernelspec": {
   "display_name": "Python [conda env:tf]",
   "language": "python",
   "name": "conda-env-tf-py"
  },
  "language_info": {
   "codemirror_mode": {
    "name": "ipython",
    "version": 3
   },
   "file_extension": ".py",
   "mimetype": "text/x-python",
   "name": "python",
   "nbconvert_exporter": "python",
   "pygments_lexer": "ipython3",
   "version": "3.9.7"
  }
 },
 "nbformat": 4,
 "nbformat_minor": 1
}
