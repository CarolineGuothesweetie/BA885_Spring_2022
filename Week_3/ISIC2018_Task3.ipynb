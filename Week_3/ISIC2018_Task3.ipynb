{
  "nbformat": 4,
  "nbformat_minor": 0,
  "metadata": {
    "colab": {
      "name": "ISIC2018_Task3.ipynb",
      "provenance": [],
      "collapsed_sections": []
    },
    "kernelspec": {
      "name": "python3",
      "display_name": "Python 3"
    },
    "language_info": {
      "name": "python"
    }
  },
  "cells": [
    {
      "cell_type": "markdown",
      "source": [
        "# ISIC Challenge 2018\n",
        "\n",
        "One of the many applications of Convolutional Neural Networks is in Health Care. In this notebook we will look at the dataset provided for the 3rd task in the ISIC-2018 Challenge: The HAM10000 Dataset (c) by ViDIR Group, Department of Dermatology, Medical University of Vienna (https://arxiv.org/abs/1803.10417).\n",
        "\n",
        "Challenge link: https://challenge.isic-archive.com/data/\n",
        "\n",
        "Task 3 dataset download links: \n",
        "\n",
        "[training_data](https://isic-challenge-data.s3.amazonaws.com/2018/ISIC2018_Task3_Training_Input.zip),\n",
        "[training_labels](https://isic-challenge-data.s3.amazonaws.com/2018/ISIC2018_Task3_Training_GroundTruth.zip)\n",
        "\n",
        "[validation_data](https://isic-challenge-data.s3.amazonaws.com/2018/ISIC2018_Task3_Validation_Input.zip), \n",
        "[validation_labels](https://isic-challenge-data.s3.amazonaws.com/2018/ISIC2018_Task3_Validation_GroundTruth.zip)\n",
        "\n",
        "[test_data](https://isic-challenge-data.s3.amazonaws.com/2018/ISIC2018_Task3_Test_Input.zip)"
      ],
      "metadata": {
        "id": "jB0EXOpZD6RA"
      }
    },
    {
      "cell_type": "code",
      "execution_count": 1,
      "metadata": {
        "id": "9tOQ8PXkMxCb"
      },
      "outputs": [],
      "source": [
        "import os\n",
        "import numpy as np\n",
        "import pandas as pd\n",
        "import json\n",
        "import shutil\n",
        "import random\n",
        "from collections import Counter\n",
        "\n",
        "import tensorflow as tf\n",
        "from tensorflow import keras\n",
        "from keras import layers\n",
        "from keras import preprocessing\n",
        "from keras import applications\n",
        "from tensorflow.keras.utils import image_dataset_from_directory\n",
        "\n",
        "from keras.applications.vgg19 import preprocess_input\n",
        "from keras.applications.vgg16 import VGG16\n",
        "from keras.applications.inception_v3 import InceptionV3"
      ]
    },
    {
      "cell_type": "markdown",
      "source": [
        "## Download and prepare the data"
      ],
      "metadata": {
        "id": "R8mFVBWuEDkC"
      }
    },
    {
      "cell_type": "code",
      "source": [
        "dataset_links = {'training_data': 'https://isic-challenge-data.s3.amazonaws.com/2018/ISIC2018_Task3_Training_Input.zip',\n",
        "                 'training_labels': 'https://isic-challenge-data.s3.amazonaws.com/2018/ISIC2018_Task3_Training_GroundTruth.zip',\n",
        "                 'validation_data': 'https://isic-challenge-data.s3.amazonaws.com/2018/ISIC2018_Task3_Validation_Input.zip',\n",
        "                 'validation_labels': 'https://isic-challenge-data.s3.amazonaws.com/2018/ISIC2018_Task3_Validation_GroundTruth.zip',\n",
        "                 'test_data': 'https://isic-challenge-data.s3.amazonaws.com/2018/ISIC2018_Task3_Test_Input.zip'}"
      ],
      "metadata": {
        "id": "cyTrODZ3G9ZN"
      },
      "execution_count": 2,
      "outputs": []
    },
    {
      "cell_type": "code",
      "source": [
        "for key in dataset_links:\n",
        "    tf.keras.utils.get_file(key+'.zip',\n",
        "                            dataset_links[key],\n",
        "                            cache_dir='./',\n",
        "                            cache_subdir='datasets',\n",
        "                            extract=True)"
      ],
      "metadata": {
        "colab": {
          "base_uri": "https://localhost:8080/"
        },
        "id": "d8DPCDiTEZ3l",
        "outputId": "18103bd7-456d-44b0-cf15-c0e4711111bf"
      },
      "execution_count": 3,
      "outputs": [
        {
          "output_type": "stream",
          "name": "stdout",
          "text": [
            "Downloading data from https://isic-challenge-data.s3.amazonaws.com/2018/ISIC2018_Task3_Training_Input.zip\n",
            "2771738624/2771732744 [==============================] - 62s 0us/step\n",
            "2771746816/2771732744 [==============================] - 62s 0us/step\n",
            "Downloading data from https://isic-challenge-data.s3.amazonaws.com/2018/ISIC2018_Task3_Training_GroundTruth.zip\n",
            "40960/36681 [=================================] - 0s 0us/step\n",
            "49152/36681 [========================================] - 0s 0us/step\n",
            "Downloading data from https://isic-challenge-data.s3.amazonaws.com/2018/ISIC2018_Task3_Validation_Input.zip\n",
            "53297152/53292381 [==============================] - 2s 0us/step\n",
            "53305344/53292381 [==============================] - 2s 0us/step\n",
            "Downloading data from https://isic-challenge-data.s3.amazonaws.com/2018/ISIC2018_Task3_Validation_GroundTruth.zip\n",
            "16384/7619 [================================================================] - 0s 0us/step\n",
            "Downloading data from https://isic-challenge-data.s3.amazonaws.com/2018/ISIC2018_Task3_Test_Input.zip\n",
            "420593664/420586171 [==============================] - 11s 0us/step\n",
            "420601856/420586171 [==============================] - 11s 0us/step\n"
          ]
        }
      ]
    },
    {
      "cell_type": "code",
      "source": [
        "folders = []\n",
        "for folder, subfolder, file in os.walk('./datasets'):\n",
        "    if not folder in folders:\n",
        "        folders.append(folder)"
      ],
      "metadata": {
        "id": "VeGDXdKCMaHn"
      },
      "execution_count": 4,
      "outputs": []
    },
    {
      "cell_type": "code",
      "source": [
        "folders"
      ],
      "metadata": {
        "id": "ccd8c7B-MsiJ"
      },
      "execution_count": null,
      "outputs": []
    },
    {
      "cell_type": "code",
      "source": [
        "paths = {'train_data':'./datasets/ISIC2018_Task3_Training_Input',\n",
        "         'train_labels':'./datasets/ISIC2018_Task3_Training_GroundTruth',\n",
        "         'test_data':'./datasets/ISIC2018_Task3_Validation_Input',\n",
        "         'test_labels':'./datasets/ISIC2018_Task3_Validation_GroundTruth'}\n",
        "paths"
      ],
      "metadata": {
        "colab": {
          "base_uri": "https://localhost:8080/"
        },
        "id": "0x5iQ7HZM9UO",
        "outputId": "79ea08a5-c01d-42c9-86a2-b8b2a0f1408a"
      },
      "execution_count": 2,
      "outputs": [
        {
          "output_type": "execute_result",
          "data": {
            "text/plain": [
              "{'test_data': './datasets/ISIC2018_Task3_Validation_Input',\n",
              " 'test_labels': './datasets/ISIC2018_Task3_Validation_GroundTruth',\n",
              " 'train_data': './datasets/ISIC2018_Task3_Training_Input',\n",
              " 'train_labels': './datasets/ISIC2018_Task3_Training_GroundTruth'}"
            ]
          },
          "metadata": {},
          "execution_count": 2
        }
      ]
    },
    {
      "cell_type": "code",
      "source": [
        "training_GT = pd.read_csv(paths['train_labels']+'/ISIC2018_Task3_Training_GroundTruth.csv')\n",
        "test_GT = pd.read_csv(paths['test_labels']+'/ISIC2018_Task3_Validation_GroundTruth.csv')\n",
        "training_GT.head()"
      ],
      "metadata": {
        "colab": {
          "base_uri": "https://localhost:8080/",
          "height": 206
        },
        "id": "M4J7BVdTI3ZW",
        "outputId": "82d05333-bce9-4c07-c11b-54c85ec94b05"
      },
      "execution_count": 3,
      "outputs": [
        {
          "output_type": "execute_result",
          "data": {
            "text/plain": [
              "          image  MEL   NV  BCC  AKIEC  BKL   DF  VASC\n",
              "0  ISIC_0024306  0.0  1.0  0.0    0.0  0.0  0.0   0.0\n",
              "1  ISIC_0024307  0.0  1.0  0.0    0.0  0.0  0.0   0.0\n",
              "2  ISIC_0024308  0.0  1.0  0.0    0.0  0.0  0.0   0.0\n",
              "3  ISIC_0024309  0.0  1.0  0.0    0.0  0.0  0.0   0.0\n",
              "4  ISIC_0024310  1.0  0.0  0.0    0.0  0.0  0.0   0.0"
            ],
            "text/html": [
              "\n",
              "  <div id=\"df-1e7b976d-e21d-4e7c-9292-a21d6d393b8d\">\n",
              "    <div class=\"colab-df-container\">\n",
              "      <div>\n",
              "<style scoped>\n",
              "    .dataframe tbody tr th:only-of-type {\n",
              "        vertical-align: middle;\n",
              "    }\n",
              "\n",
              "    .dataframe tbody tr th {\n",
              "        vertical-align: top;\n",
              "    }\n",
              "\n",
              "    .dataframe thead th {\n",
              "        text-align: right;\n",
              "    }\n",
              "</style>\n",
              "<table border=\"1\" class=\"dataframe\">\n",
              "  <thead>\n",
              "    <tr style=\"text-align: right;\">\n",
              "      <th></th>\n",
              "      <th>image</th>\n",
              "      <th>MEL</th>\n",
              "      <th>NV</th>\n",
              "      <th>BCC</th>\n",
              "      <th>AKIEC</th>\n",
              "      <th>BKL</th>\n",
              "      <th>DF</th>\n",
              "      <th>VASC</th>\n",
              "    </tr>\n",
              "  </thead>\n",
              "  <tbody>\n",
              "    <tr>\n",
              "      <th>0</th>\n",
              "      <td>ISIC_0024306</td>\n",
              "      <td>0.0</td>\n",
              "      <td>1.0</td>\n",
              "      <td>0.0</td>\n",
              "      <td>0.0</td>\n",
              "      <td>0.0</td>\n",
              "      <td>0.0</td>\n",
              "      <td>0.0</td>\n",
              "    </tr>\n",
              "    <tr>\n",
              "      <th>1</th>\n",
              "      <td>ISIC_0024307</td>\n",
              "      <td>0.0</td>\n",
              "      <td>1.0</td>\n",
              "      <td>0.0</td>\n",
              "      <td>0.0</td>\n",
              "      <td>0.0</td>\n",
              "      <td>0.0</td>\n",
              "      <td>0.0</td>\n",
              "    </tr>\n",
              "    <tr>\n",
              "      <th>2</th>\n",
              "      <td>ISIC_0024308</td>\n",
              "      <td>0.0</td>\n",
              "      <td>1.0</td>\n",
              "      <td>0.0</td>\n",
              "      <td>0.0</td>\n",
              "      <td>0.0</td>\n",
              "      <td>0.0</td>\n",
              "      <td>0.0</td>\n",
              "    </tr>\n",
              "    <tr>\n",
              "      <th>3</th>\n",
              "      <td>ISIC_0024309</td>\n",
              "      <td>0.0</td>\n",
              "      <td>1.0</td>\n",
              "      <td>0.0</td>\n",
              "      <td>0.0</td>\n",
              "      <td>0.0</td>\n",
              "      <td>0.0</td>\n",
              "      <td>0.0</td>\n",
              "    </tr>\n",
              "    <tr>\n",
              "      <th>4</th>\n",
              "      <td>ISIC_0024310</td>\n",
              "      <td>1.0</td>\n",
              "      <td>0.0</td>\n",
              "      <td>0.0</td>\n",
              "      <td>0.0</td>\n",
              "      <td>0.0</td>\n",
              "      <td>0.0</td>\n",
              "      <td>0.0</td>\n",
              "    </tr>\n",
              "  </tbody>\n",
              "</table>\n",
              "</div>\n",
              "      <button class=\"colab-df-convert\" onclick=\"convertToInteractive('df-1e7b976d-e21d-4e7c-9292-a21d6d393b8d')\"\n",
              "              title=\"Convert this dataframe to an interactive table.\"\n",
              "              style=\"display:none;\">\n",
              "        \n",
              "  <svg xmlns=\"http://www.w3.org/2000/svg\" height=\"24px\"viewBox=\"0 0 24 24\"\n",
              "       width=\"24px\">\n",
              "    <path d=\"M0 0h24v24H0V0z\" fill=\"none\"/>\n",
              "    <path d=\"M18.56 5.44l.94 2.06.94-2.06 2.06-.94-2.06-.94-.94-2.06-.94 2.06-2.06.94zm-11 1L8.5 8.5l.94-2.06 2.06-.94-2.06-.94L8.5 2.5l-.94 2.06-2.06.94zm10 10l.94 2.06.94-2.06 2.06-.94-2.06-.94-.94-2.06-.94 2.06-2.06.94z\"/><path d=\"M17.41 7.96l-1.37-1.37c-.4-.4-.92-.59-1.43-.59-.52 0-1.04.2-1.43.59L10.3 9.45l-7.72 7.72c-.78.78-.78 2.05 0 2.83L4 21.41c.39.39.9.59 1.41.59.51 0 1.02-.2 1.41-.59l7.78-7.78 2.81-2.81c.8-.78.8-2.07 0-2.86zM5.41 20L4 18.59l7.72-7.72 1.47 1.35L5.41 20z\"/>\n",
              "  </svg>\n",
              "      </button>\n",
              "      \n",
              "  <style>\n",
              "    .colab-df-container {\n",
              "      display:flex;\n",
              "      flex-wrap:wrap;\n",
              "      gap: 12px;\n",
              "    }\n",
              "\n",
              "    .colab-df-convert {\n",
              "      background-color: #E8F0FE;\n",
              "      border: none;\n",
              "      border-radius: 50%;\n",
              "      cursor: pointer;\n",
              "      display: none;\n",
              "      fill: #1967D2;\n",
              "      height: 32px;\n",
              "      padding: 0 0 0 0;\n",
              "      width: 32px;\n",
              "    }\n",
              "\n",
              "    .colab-df-convert:hover {\n",
              "      background-color: #E2EBFA;\n",
              "      box-shadow: 0px 1px 2px rgba(60, 64, 67, 0.3), 0px 1px 3px 1px rgba(60, 64, 67, 0.15);\n",
              "      fill: #174EA6;\n",
              "    }\n",
              "\n",
              "    [theme=dark] .colab-df-convert {\n",
              "      background-color: #3B4455;\n",
              "      fill: #D2E3FC;\n",
              "    }\n",
              "\n",
              "    [theme=dark] .colab-df-convert:hover {\n",
              "      background-color: #434B5C;\n",
              "      box-shadow: 0px 1px 3px 1px rgba(0, 0, 0, 0.15);\n",
              "      filter: drop-shadow(0px 1px 2px rgba(0, 0, 0, 0.3));\n",
              "      fill: #FFFFFF;\n",
              "    }\n",
              "  </style>\n",
              "\n",
              "      <script>\n",
              "        const buttonEl =\n",
              "          document.querySelector('#df-1e7b976d-e21d-4e7c-9292-a21d6d393b8d button.colab-df-convert');\n",
              "        buttonEl.style.display =\n",
              "          google.colab.kernel.accessAllowed ? 'block' : 'none';\n",
              "\n",
              "        async function convertToInteractive(key) {\n",
              "          const element = document.querySelector('#df-1e7b976d-e21d-4e7c-9292-a21d6d393b8d');\n",
              "          const dataTable =\n",
              "            await google.colab.kernel.invokeFunction('convertToInteractive',\n",
              "                                                     [key], {});\n",
              "          if (!dataTable) return;\n",
              "\n",
              "          const docLinkHtml = 'Like what you see? Visit the ' +\n",
              "            '<a target=\"_blank\" href=https://colab.research.google.com/notebooks/data_table.ipynb>data table notebook</a>'\n",
              "            + ' to learn more about interactive tables.';\n",
              "          element.innerHTML = '';\n",
              "          dataTable['output_type'] = 'display_data';\n",
              "          await google.colab.output.renderOutput(dataTable, element);\n",
              "          const docLink = document.createElement('div');\n",
              "          docLink.innerHTML = docLinkHtml;\n",
              "          element.appendChild(docLink);\n",
              "        }\n",
              "      </script>\n",
              "    </div>\n",
              "  </div>\n",
              "  "
            ]
          },
          "metadata": {},
          "execution_count": 3
        }
      ]
    },
    {
      "cell_type": "code",
      "source": [
        "categories = np.array(training_GT.columns)[1:]\n",
        "categories"
      ],
      "metadata": {
        "colab": {
          "base_uri": "https://localhost:8080/"
        },
        "id": "mBMfOh8onu_Y",
        "outputId": "c39bb5a9-4fc1-44e3-f1fe-43c461f9b776"
      },
      "execution_count": 4,
      "outputs": [
        {
          "output_type": "execute_result",
          "data": {
            "text/plain": [
              "array(['MEL', 'NV', 'BCC', 'AKIEC', 'BKL', 'DF', 'VASC'], dtype=object)"
            ]
          },
          "metadata": {},
          "execution_count": 4
        }
      ]
    },
    {
      "cell_type": "code",
      "source": [
        "training_GT.sum(axis=0)"
      ],
      "metadata": {
        "colab": {
          "base_uri": "https://localhost:8080/"
        },
        "id": "nktWFPfdpMhl",
        "outputId": "6179422d-df6f-4f78-d247-e41f4d9a0396"
      },
      "execution_count": 5,
      "outputs": [
        {
          "output_type": "execute_result",
          "data": {
            "text/plain": [
              "image    ISIC_0024306ISIC_0024307ISIC_0024308ISIC_00243...\n",
              "MEL                                                 1113.0\n",
              "NV                                                  6705.0\n",
              "BCC                                                  514.0\n",
              "AKIEC                                                327.0\n",
              "BKL                                                 1099.0\n",
              "DF                                                   115.0\n",
              "VASC                                                 142.0\n",
              "dtype: object"
            ]
          },
          "metadata": {},
          "execution_count": 5
        }
      ]
    },
    {
      "cell_type": "code",
      "source": [
        "all(training_GT.sum(axis=1) == 1)"
      ],
      "metadata": {
        "colab": {
          "base_uri": "https://localhost:8080/"
        },
        "id": "9udCX_Lc5gRr",
        "outputId": "75036810-41b4-4dd8-975e-a894d6066759"
      },
      "execution_count": 6,
      "outputs": [
        {
          "output_type": "stream",
          "name": "stderr",
          "text": [
            "/usr/local/lib/python3.7/dist-packages/ipykernel_launcher.py:1: FutureWarning: Dropping of nuisance columns in DataFrame reductions (with 'numeric_only=None') is deprecated; in a future version this will raise TypeError.  Select only valid columns before calling the reduction.\n",
            "  \"\"\"Entry point for launching an IPython kernel.\n"
          ]
        },
        {
          "output_type": "execute_result",
          "data": {
            "text/plain": [
              "True"
            ]
          },
          "metadata": {},
          "execution_count": 6
        }
      ]
    },
    {
      "cell_type": "code",
      "source": [
        "for ds in ['train_data', 'test_data']:\n",
        "    for cat in categories:\n",
        "        if not os.path.isdir(paths[ds]+'/'+cat):\n",
        "            os.mkdir(paths[ds]+'/'+cat)"
      ],
      "metadata": {
        "id": "lbe12rgmqIyD"
      },
      "execution_count": 7,
      "outputs": []
    },
    {
      "cell_type": "code",
      "source": [
        "for cat in categories:\n",
        "    for image in training_GT[(training_GT[cat] == 1)]['image']:\n",
        "        shutil.move(paths['train_data']+'/'+image+'.jpg', paths['train_data']+'/'+cat)\n",
        "\n",
        "for cat in categories:\n",
        "    for image in test_GT[(test_GT[cat] == 1)]['image']:\n",
        "        shutil.move(paths['test_data']+'/'+image+'.jpg', paths['test_data']+'/'+cat)"
      ],
      "metadata": {
        "id": "S0hDr7NxUToz"
      },
      "execution_count": 11,
      "outputs": []
    },
    {
      "cell_type": "markdown",
      "source": [
        "### Explore the data"
      ],
      "metadata": {
        "id": "U7vbRfhV376j"
      }
    },
    {
      "cell_type": "code",
      "source": [
        "from scipy import ndimage\n",
        "from matplotlib.pyplot import imshow\n",
        "from PIL import Image"
      ],
      "metadata": {
        "id": "FSlE3zQu3-zh"
      },
      "execution_count": 15,
      "outputs": []
    },
    {
      "cell_type": "code",
      "source": [
        "sample_images = []\n",
        "for im in training_GT.sample(n=3)['image']:\n",
        "    sample_images.append(Image.open(paths['train_data']+'/NV/'+im+'.jpg'))"
      ],
      "metadata": {
        "id": "sR4Pk2VI4PpH"
      },
      "execution_count": 18,
      "outputs": []
    },
    {
      "cell_type": "code",
      "source": [
        "imshow(sample_images[2])"
      ],
      "metadata": {
        "colab": {
          "base_uri": "https://localhost:8080/",
          "height": 286
        },
        "id": "kvRd25Hb60Cu",
        "outputId": "0c0cdc49-c2a3-4647-c350-3d289362bdd2"
      },
      "execution_count": 37,
      "outputs": [
        {
          "output_type": "execute_result",
          "data": {
            "text/plain": [
              "<matplotlib.image.AxesImage at 0x7f9fc5dd0510>"
            ]
          },
          "metadata": {},
          "execution_count": 37
        },
        {
          "output_type": "display_data",
          "data": {
            "text/plain": [
              "<Figure size 432x288 with 1 Axes>"
            ],
            "image/png": "[encoded data removed]"
          },
          "metadata": {
            "needs_background": "light"
          }
        }
      ]
    },
    {
      "cell_type": "markdown",
      "source": [
        "### image_dataset_from_directory"
      ],
      "metadata": {
        "id": "U1kOdfe71CGE"
      }
    },
    {
      "cell_type": "code",
      "source": [
        "train_dataset = image_dataset_from_directory(\n",
        "    paths['train_data'],\n",
        "    labels = 'inferred',\n",
        "    label_mode = 'categorical',\n",
        "    color_mode = 'rgb',\n",
        "    image_size = (180, 180),\n",
        "    shuffle = True,\n",
        "    seed = 0,\n",
        "    subset = 'training',\n",
        "    validation_split = 0.1,\n",
        "    batch_size = 128,\n",
        "    crop_to_aspect_ratio = True)\n",
        "\n",
        "valid_dataset = image_dataset_from_directory(\n",
        "    paths['train_data'],\n",
        "    labels = 'inferred',\n",
        "    label_mode = 'categorical',\n",
        "    color_mode = 'rgb',\n",
        "    image_size = (180, 180),\n",
        "    shuffle = True,\n",
        "    seed = 0,\n",
        "    subset = 'validation',\n",
        "    validation_split = 0.1,\n",
        "    batch_size = 128,\n",
        "    crop_to_aspect_ratio = True)\n",
        "\n",
        "test_dataset = image_dataset_from_directory(\n",
        "    paths['test_data'],\n",
        "    labels = 'inferred',\n",
        "    label_mode = 'categorical',\n",
        "    color_mode = 'rgb',\n",
        "    image_size = (180, 180),\n",
        "    batch_size = 128,\n",
        "    crop_to_aspect_ratio = True)"
      ],
      "metadata": {
        "colab": {
          "base_uri": "https://localhost:8080/"
        },
        "id": "_TKrmN6FXG48",
        "outputId": "aedb0265-990f-4186-8d56-95d482021461"
      },
      "execution_count": 8,
      "outputs": [
        {
          "output_type": "stream",
          "name": "stdout",
          "text": [
            "Found 10015 files belonging to 7 classes.\n",
            "Using 9014 files for training.\n",
            "Found 10015 files belonging to 7 classes.\n",
            "Using 1001 files for validation.\n",
            "Found 193 files belonging to 7 classes.\n"
          ]
        }
      ]
    },
    {
      "cell_type": "markdown",
      "source": [
        "Training on the full datasets takes too long so we will work with a subset of the training dataset for the time being."
      ],
      "metadata": {
        "id": "fHjULX3xIzcj"
      }
    },
    {
      "cell_type": "code",
      "source": [
        "train_miniset = image_dataset_from_directory(\n",
        "    paths['train_data'],\n",
        "    labels = 'inferred',\n",
        "    label_mode = 'categorical',\n",
        "    color_mode = 'rgb',\n",
        "    image_size = (180, 180),\n",
        "    shuffle = True,\n",
        "    seed = 0,\n",
        "    subset = 'training',\n",
        "    validation_split = 0.6,\n",
        "    batch_size = 4006,\n",
        "    crop_to_aspect_ratio = True)\n",
        "\n",
        "valid_miniset = image_dataset_from_directory(\n",
        "    paths['train_data'],\n",
        "    labels = 'inferred',\n",
        "    label_mode = 'categorical',\n",
        "    color_mode = 'rgb',\n",
        "    image_size = (180, 180),\n",
        "    shuffle = True,\n",
        "    seed = 0,\n",
        "    subset = 'validation',\n",
        "    validation_split = 0.6,\n",
        "    batch_size = 128,\n",
        "    crop_to_aspect_ratio = True)"
      ],
      "metadata": {
        "colab": {
          "base_uri": "https://localhost:8080/"
        },
        "id": "aNNSGEbTVn8l",
        "outputId": "d463c6b4-400a-4751-f5c2-16467327e4d0"
      },
      "execution_count": 9,
      "outputs": [
        {
          "output_type": "stream",
          "name": "stdout",
          "text": [
            "Found 10015 files belonging to 7 classes.\n",
            "Using 4006 files for training.\n",
            "Found 10015 files belonging to 7 classes.\n",
            "Using 6009 files for validation.\n"
          ]
        }
      ]
    },
    {
      "cell_type": "code",
      "source": [
        "for data_batch, labels_batch in train_miniset:\n",
        "    train_data = data_batch \n",
        "    train_labels = labels_batch\n",
        "\n",
        "print(train_data.shape)\n",
        "print(train_labels.shape)"
      ],
      "metadata": {
        "colab": {
          "base_uri": "https://localhost:8080/"
        },
        "id": "vB-FhWMPAp_b",
        "outputId": "ab4029c6-ef8a-4a78-bf80-661d1cfbfd03"
      },
      "execution_count": 14,
      "outputs": [
        {
          "output_type": "stream",
          "name": "stdout",
          "text": [
            "(4006, 180, 180, 3)\n",
            "(4006, 7)\n"
          ]
        }
      ]
    },
    {
      "cell_type": "markdown",
      "source": [
        "# Train a model from scratch"
      ],
      "metadata": {
        "id": "836dW58pA-z0"
      }
    },
    {
      "cell_type": "code",
      "source": [
        "inputs = keras.Input(shape=(180, 180, 3))\n",
        "rescaled_inputs = layers.Rescaling(1./255)(inputs)"
      ],
      "metadata": {
        "id": "raH1PrV1drKh"
      },
      "execution_count": 105,
      "outputs": []
    },
    {
      "cell_type": "code",
      "source": [
        "x1 = layers.Conv2D(filters=32, kernel_size=3, strides=2, activation=\"relu\")(rescaled_inputs)\n",
        "x1 = layers.Flatten()(x1)\n",
        "x1 = layers.Dropout(0.5)(x1)\n",
        "x1 = layers.Dense(7, activation=\"softmax\")(x1)\n",
        "\n",
        "model_1 = keras.Model(inputs=inputs, outputs=x1)\n",
        "\n",
        "model_1.compile(loss=\"categorical_crossentropy\",\n",
        "                optimizer=\"adam\",\n",
        "                metrics=[\"accuracy\"])"
      ],
      "metadata": {
        "id": "MhNN3AvLA94v"
      },
      "execution_count": 106,
      "outputs": []
    },
    {
      "cell_type": "code",
      "source": [
        "callback = keras.callbacks.EarlyStopping(monitor='val_loss',\n",
        "                                         patience=4,\n",
        "                                         restore_best_weights=True)\n",
        "\n",
        "history_1 = model_1.fit(train_data,\n",
        "                        train_labels,\n",
        "                        batch_size=128,\n",
        "                        epochs=20,\n",
        "                        validation_split=0.2,\n",
        "                        callbacks=callback)"
      ],
      "metadata": {
        "colab": {
          "base_uri": "https://localhost:8080/"
        },
        "id": "nkCO9kPOBi8A",
        "outputId": "a98056c9-d886-44b9-a1a3-35563c53411b"
      },
      "execution_count": 107,
      "outputs": [
        {
          "output_type": "stream",
          "name": "stdout",
          "text": [
            "Epoch 1/20\n",
            "26/26 [==============================] - 24s 894ms/step - loss: 6.9369 - accuracy: 0.4419 - val_loss: 1.4350 - val_accuracy: 0.6708\n",
            "Epoch 2/20\n",
            "26/26 [==============================] - 24s 947ms/step - loss: 1.1578 - accuracy: 0.6732 - val_loss: 1.1249 - val_accuracy: 0.6721\n",
            "Epoch 3/20\n",
            "26/26 [==============================] - 21s 803ms/step - loss: 1.0144 - accuracy: 0.6767 - val_loss: 0.9747 - val_accuracy: 0.6721\n",
            "Epoch 4/20\n",
            "26/26 [==============================] - 21s 803ms/step - loss: 0.8712 - accuracy: 0.6860 - val_loss: 0.8730 - val_accuracy: 0.6808\n",
            "Epoch 5/20\n",
            "26/26 [==============================] - 21s 801ms/step - loss: 0.7876 - accuracy: 0.7082 - val_loss: 0.8506 - val_accuracy: 0.6933\n",
            "Epoch 6/20\n",
            "26/26 [==============================] - 21s 793ms/step - loss: 0.7643 - accuracy: 0.7216 - val_loss: 0.8569 - val_accuracy: 0.6883\n",
            "Epoch 7/20\n",
            "26/26 [==============================] - 21s 795ms/step - loss: 0.6843 - accuracy: 0.7453 - val_loss: 0.8667 - val_accuracy: 0.6446\n",
            "Epoch 8/20\n",
            "26/26 [==============================] - 21s 797ms/step - loss: 0.6339 - accuracy: 0.7734 - val_loss: 1.0573 - val_accuracy: 0.5885\n",
            "Epoch 9/20\n",
            "26/26 [==============================] - 21s 796ms/step - loss: 0.6633 - accuracy: 0.7566 - val_loss: 0.7999 - val_accuracy: 0.7045\n",
            "Epoch 10/20\n",
            "26/26 [==============================] - 20s 785ms/step - loss: 0.5805 - accuracy: 0.7906 - val_loss: 0.9009 - val_accuracy: 0.6746\n",
            "Epoch 11/20\n",
            "26/26 [==============================] - 20s 788ms/step - loss: 0.5809 - accuracy: 0.7940 - val_loss: 0.9269 - val_accuracy: 0.6970\n",
            "Epoch 12/20\n",
            "26/26 [==============================] - 21s 791ms/step - loss: 0.5408 - accuracy: 0.8071 - val_loss: 0.8345 - val_accuracy: 0.6858\n",
            "Epoch 13/20\n",
            "26/26 [==============================] - 21s 792ms/step - loss: 0.5187 - accuracy: 0.8283 - val_loss: 0.8413 - val_accuracy: 0.7057\n"
          ]
        }
      ]
    },
    {
      "cell_type": "code",
      "source": [
        "model_1.evaluate(valid_miniset)"
      ],
      "metadata": {
        "colab": {
          "base_uri": "https://localhost:8080/"
        },
        "id": "XNyPFdlveyHi",
        "outputId": "9114e0a7-43cb-40e9-da7d-50ad020068b7"
      },
      "execution_count": 133,
      "outputs": [
        {
          "output_type": "stream",
          "name": "stdout",
          "text": [
            "47/47 [==============================] - 37s 678ms/step - loss: 0.8482 - accuracy: 0.6905\n"
          ]
        },
        {
          "output_type": "execute_result",
          "data": {
            "text/plain": [
              "[0.8482227921485901, 0.6904643177986145]"
            ]
          },
          "metadata": {},
          "execution_count": 133
        }
      ]
    },
    {
      "cell_type": "code",
      "source": [
        "x2 = layers.Conv2D(filters=32, kernel_size=3, strides=1, activation=\"relu\")(rescaled_inputs)\n",
        "x2 = layers.MaxPooling2D(pool_size=2)(x2)\n",
        "x2 = layers.Flatten()(x2)\n",
        "x2 = layers.Dropout(0.5)(x2)\n",
        "x2 = layers.Dense(7, activation=\"softmax\")(x2)\n",
        "\n",
        "model_2 = keras.Model(inputs=inputs, outputs=x2)\n",
        "\n",
        "model_2.compile(loss=\"categorical_crossentropy\",\n",
        "                optimizer=\"adam\",\n",
        "                metrics=[\"accuracy\"])"
      ],
      "metadata": {
        "id": "ANrnlIReeU-Z"
      },
      "execution_count": 109,
      "outputs": []
    },
    {
      "cell_type": "code",
      "source": [
        "callback = keras.callbacks.EarlyStopping(monitor='val_loss',\n",
        "                                         patience=4,\n",
        "                                         restore_best_weights=True)\n",
        "\n",
        "history_2 = model_2.fit(train_data,\n",
        "                        train_labels,\n",
        "                        batch_size=128,\n",
        "                        epochs=20,\n",
        "                        validation_split=0.2,\n",
        "                        callbacks=callback)"
      ],
      "metadata": {
        "colab": {
          "base_uri": "https://localhost:8080/"
        },
        "id": "JzhxvWg_f0xS",
        "outputId": "32b5af3e-afb9-487f-fa8d-eb005ce91794"
      },
      "execution_count": 110,
      "outputs": [
        {
          "output_type": "stream",
          "name": "stdout",
          "text": [
            "Epoch 1/20\n",
            "26/26 [==============================] - 64s 2s/step - loss: 5.1424 - accuracy: 0.5237 - val_loss: 1.1885 - val_accuracy: 0.6721\n",
            "Epoch 2/20\n",
            "26/26 [==============================] - 64s 2s/step - loss: 1.0431 - accuracy: 0.6735 - val_loss: 0.9583 - val_accuracy: 0.6721\n",
            "Epoch 3/20\n",
            "26/26 [==============================] - 61s 2s/step - loss: 0.9552 - accuracy: 0.6767 - val_loss: 0.9206 - val_accuracy: 0.6696\n",
            "Epoch 4/20\n",
            "26/26 [==============================] - 61s 2s/step - loss: 0.9086 - accuracy: 0.6779 - val_loss: 0.9020 - val_accuracy: 0.6721\n",
            "Epoch 5/20\n",
            "26/26 [==============================] - 61s 2s/step - loss: 0.8575 - accuracy: 0.6857 - val_loss: 0.8680 - val_accuracy: 0.6746\n",
            "Epoch 6/20\n",
            "26/26 [==============================] - 61s 2s/step - loss: 0.8004 - accuracy: 0.7007 - val_loss: 0.8878 - val_accuracy: 0.6721\n",
            "Epoch 7/20\n",
            "26/26 [==============================] - 61s 2s/step - loss: 0.7504 - accuracy: 0.7238 - val_loss: 1.0373 - val_accuracy: 0.6696\n",
            "Epoch 8/20\n",
            "26/26 [==============================] - 61s 2s/step - loss: 0.7401 - accuracy: 0.7291 - val_loss: 0.8336 - val_accuracy: 0.6983\n",
            "Epoch 9/20\n",
            "26/26 [==============================] - 61s 2s/step - loss: 0.6823 - accuracy: 0.7559 - val_loss: 0.8386 - val_accuracy: 0.6983\n",
            "Epoch 10/20\n",
            "26/26 [==============================] - 61s 2s/step - loss: 0.6396 - accuracy: 0.7772 - val_loss: 0.8599 - val_accuracy: 0.6958\n",
            "Epoch 11/20\n",
            "26/26 [==============================] - 61s 2s/step - loss: 0.5939 - accuracy: 0.7906 - val_loss: 0.8176 - val_accuracy: 0.7157\n",
            "Epoch 12/20\n",
            "26/26 [==============================] - 73s 3s/step - loss: 0.5693 - accuracy: 0.7990 - val_loss: 0.8682 - val_accuracy: 0.6845\n",
            "Epoch 13/20\n",
            "26/26 [==============================] - 75s 3s/step - loss: 0.5366 - accuracy: 0.8184 - val_loss: 0.8317 - val_accuracy: 0.6870\n",
            "Epoch 14/20\n",
            "26/26 [==============================] - 68s 3s/step - loss: 0.4990 - accuracy: 0.8305 - val_loss: 0.9345 - val_accuracy: 0.6920\n",
            "Epoch 15/20\n",
            "26/26 [==============================] - 62s 2s/step - loss: 0.5378 - accuracy: 0.8146 - val_loss: 0.8706 - val_accuracy: 0.7020\n"
          ]
        }
      ]
    },
    {
      "cell_type": "code",
      "source": [
        "model_2.evaluate(valid_miniset)"
      ],
      "metadata": {
        "colab": {
          "base_uri": "https://localhost:8080/"
        },
        "id": "i8MSWwEVmgar",
        "outputId": "b9230711-65d1-44e6-9802-3fd25f5d7a54"
      },
      "execution_count": 134,
      "outputs": [
        {
          "metadata": {
            "tags": null
          },
          "name": "stdout",
          "output_type": "stream",
          "text": [
            "47/47 [==============================] - 63s 1s/step - loss: 0.8610 - accuracy: 0.6930\n"
          ]
        },
        {
          "output_type": "execute_result",
          "data": {
            "text/plain": [
              "[0.8609623908996582, 0.6929605603218079]"
            ]
          },
          "metadata": {},
          "execution_count": 134
        }
      ]
    },
    {
      "cell_type": "markdown",
      "source": [
        "## Add augmentation"
      ],
      "metadata": {
        "id": "jfxzRSEg2N00"
      }
    },
    {
      "cell_type": "code",
      "source": [
        "augmentation = keras.Sequential([layers.RandomFlip(\"horizontal\"),\n",
        "                                 layers.RandomRotation(0.5),\n",
        "                                 layers.RandomZoom(0.1)\n",
        "                                 ])"
      ],
      "metadata": {
        "id": "cH5ZYNm62PS8"
      },
      "execution_count": 123,
      "outputs": []
    },
    {
      "cell_type": "code",
      "source": [
        "x3 = augmentation(rescaled_inputs)\n",
        "x3 = layers.Conv2D(filters=32, kernel_size=3, activation=\"relu\")(x3)\n",
        "x3 = layers.MaxPooling2D(pool_size=2)(x3)\n",
        "x3 = layers.Flatten()(x3)\n",
        "x3 = layers.Dropout(0.5)(x3)\n",
        "x3 = layers.Dense(7, activation=\"softmax\")(x3)\n",
        "model_3 = keras.Model(inputs=inputs, outputs=x3)\n",
        "\n",
        "model_3.compile(loss=\"categorical_crossentropy\",\n",
        "                optimizer=\"adam\",\n",
        "                metrics=[\"accuracy\"])"
      ],
      "metadata": {
        "id": "JICYFzO3N_70"
      },
      "execution_count": 124,
      "outputs": []
    },
    {
      "cell_type": "code",
      "source": [
        "callback = keras.callbacks.EarlyStopping(monitor='val_loss',\n",
        "                                         patience=4,\n",
        "                                         restore_best_weights=True)\n",
        "\n",
        "history = model_3.fit(train_data,\n",
        "                      train_labels,\n",
        "                      batch_size=128,\n",
        "                      epochs=20,\n",
        "                      validation_split=0.2,\n",
        "                      callbacks=callback)"
      ],
      "metadata": {
        "colab": {
          "base_uri": "https://localhost:8080/"
        },
        "id": "VzN8Jb2jOjEo",
        "outputId": "7016ba7a-cdaa-4f8a-ada0-8afe74f5f3b0"
      },
      "execution_count": 125,
      "outputs": [
        {
          "output_type": "stream",
          "name": "stdout",
          "text": [
            "Epoch 1/20\n",
            "26/26 [==============================] - 229s 3s/step - loss: 8.1435 - accuracy: 0.5140 - val_loss: 1.5120 - val_accuracy: 0.6708\n",
            "Epoch 2/20\n",
            "26/26 [==============================] - 76s 3s/step - loss: 1.1072 - accuracy: 0.6448 - val_loss: 1.0019 - val_accuracy: 0.6683\n",
            "Epoch 3/20\n",
            "26/26 [==============================] - 77s 3s/step - loss: 0.9706 - accuracy: 0.6763 - val_loss: 0.9978 - val_accuracy: 0.6721\n",
            "Epoch 4/20\n",
            "26/26 [==============================] - 76s 3s/step - loss: 0.9320 - accuracy: 0.6779 - val_loss: 0.9884 - val_accuracy: 0.6733\n",
            "Epoch 5/20\n",
            "26/26 [==============================] - 76s 3s/step - loss: 0.9081 - accuracy: 0.6851 - val_loss: 0.8930 - val_accuracy: 0.6895\n",
            "Epoch 6/20\n",
            "26/26 [==============================] - 76s 3s/step - loss: 0.8912 - accuracy: 0.6801 - val_loss: 0.8760 - val_accuracy: 0.6746\n",
            "Epoch 7/20\n",
            "26/26 [==============================] - 76s 3s/step - loss: 0.8654 - accuracy: 0.6813 - val_loss: 0.8735 - val_accuracy: 0.6758\n",
            "Epoch 8/20\n",
            "26/26 [==============================] - 76s 3s/step - loss: 0.8552 - accuracy: 0.6823 - val_loss: 0.8643 - val_accuracy: 0.6945\n",
            "Epoch 9/20\n",
            "26/26 [==============================] - 76s 3s/step - loss: 0.8401 - accuracy: 0.6895 - val_loss: 0.8497 - val_accuracy: 0.6783\n",
            "Epoch 10/20\n",
            "26/26 [==============================] - 76s 3s/step - loss: 0.8311 - accuracy: 0.6916 - val_loss: 0.8461 - val_accuracy: 0.6858\n",
            "Epoch 11/20\n",
            "26/26 [==============================] - 76s 3s/step - loss: 0.8373 - accuracy: 0.6882 - val_loss: 0.8756 - val_accuracy: 0.6883\n",
            "Epoch 12/20\n",
            "26/26 [==============================] - 76s 3s/step - loss: 0.8225 - accuracy: 0.6904 - val_loss: 0.8687 - val_accuracy: 0.6683\n",
            "Epoch 13/20\n",
            "26/26 [==============================] - 77s 3s/step - loss: 0.8719 - accuracy: 0.6841 - val_loss: 0.8484 - val_accuracy: 0.6683\n",
            "Epoch 14/20\n",
            "26/26 [==============================] - 76s 3s/step - loss: 0.8360 - accuracy: 0.6813 - val_loss: 0.8420 - val_accuracy: 0.6895\n",
            "Epoch 15/20\n",
            "26/26 [==============================] - 76s 3s/step - loss: 0.8032 - accuracy: 0.6979 - val_loss: 0.7947 - val_accuracy: 0.7132\n",
            "Epoch 16/20\n",
            "26/26 [==============================] - 76s 3s/step - loss: 0.8339 - accuracy: 0.6898 - val_loss: 0.9180 - val_accuracy: 0.6733\n",
            "Epoch 17/20\n",
            "26/26 [==============================] - 76s 3s/step - loss: 0.8300 - accuracy: 0.6935 - val_loss: 0.8344 - val_accuracy: 0.6995\n",
            "Epoch 18/20\n",
            "26/26 [==============================] - 76s 3s/step - loss: 0.8084 - accuracy: 0.6951 - val_loss: 0.8163 - val_accuracy: 0.6958\n",
            "Epoch 19/20\n",
            "26/26 [==============================] - 76s 3s/step - loss: 0.7977 - accuracy: 0.6973 - val_loss: 0.8353 - val_accuracy: 0.6958\n"
          ]
        }
      ]
    },
    {
      "cell_type": "code",
      "source": [
        "model_3.evaluate(valid_miniset)"
      ],
      "metadata": {
        "colab": {
          "base_uri": "https://localhost:8080/"
        },
        "id": "ERDKj1nY35OY",
        "outputId": "73abfcec-459a-45bf-9849-9f56c925ff0a"
      },
      "execution_count": 135,
      "outputs": [
        {
          "output_type": "stream",
          "name": "stdout",
          "text": [
            "47/47 [==============================] - 57s 1s/step - loss: 0.8287 - accuracy: 0.7036\n"
          ]
        },
        {
          "output_type": "execute_result",
          "data": {
            "text/plain": [
              "[0.8287271857261658, 0.7036112546920776]"
            ]
          },
          "metadata": {},
          "execution_count": 135
        }
      ]
    },
    {
      "cell_type": "markdown",
      "source": [
        "### Ensembling"
      ],
      "metadata": {
        "id": "BMdphX6cmFtE"
      }
    },
    {
      "cell_type": "code",
      "source": [
        "x4 = layers.Average()([x1, x2, x3])\n",
        "model_4 = keras.Model(inputs=inputs, outputs=x4)\n",
        "\n",
        "model_4.compile(loss=\"categorical_crossentropy\",\n",
        "                optimizer=\"adam\",\n",
        "                metrics=[\"accuracy\"])"
      ],
      "metadata": {
        "id": "qi7AaFUJmIwC"
      },
      "execution_count": 137,
      "outputs": []
    },
    {
      "cell_type": "code",
      "source": [
        "model_4.evaluate(valid_miniset)"
      ],
      "metadata": {
        "colab": {
          "base_uri": "https://localhost:8080/"
        },
        "id": "3AkXKkjkmjWk",
        "outputId": "e19993a9-9feb-4df1-c4f1-d0b35cd3fe91"
      },
      "execution_count": 138,
      "outputs": [
        {
          "output_type": "stream",
          "name": "stdout",
          "text": [
            "47/47 [==============================] - 91s 2s/step - loss: 0.7975 - accuracy: 0.7094\n"
          ]
        },
        {
          "output_type": "execute_result",
          "data": {
            "text/plain": [
              "[0.7974671125411987, 0.7094358205795288]"
            ]
          },
          "metadata": {},
          "execution_count": 138
        }
      ]
    },
    {
      "cell_type": "markdown",
      "source": [
        "The 3 models had comprable accuracy, though the 2nd and 3rd tend to perform better on new data. The accuracies I got on this run are:\n",
        "\n",
        "1. model_1 accuracy: 0.6905\n",
        "2. model_2 accuracy: 0.6930\n",
        "3. model_3 accuracy: 0.7036\n",
        "\n",
        "As you can see (and hopefully confirm for yourselves later on) the ensebmled model which simply averages over the output of the three performs even better with accuracy 0.7094."
      ],
      "metadata": {
        "id": "22BlH2KB_8XW"
      }
    },
    {
      "cell_type": "markdown",
      "source": [
        "## A deeper Convnet"
      ],
      "metadata": {
        "id": "FKbkq4D2EwV8"
      }
    },
    {
      "cell_type": "code",
      "source": [
        "x5 = augmentation(rescaled_inputs)\n",
        "x5 = layers.Conv2D(filters=32, kernel_size=3, activation=\"relu\")(x5)\n",
        "x5 = layers.MaxPooling2D(pool_size=2)(x5)\n",
        "x5 = layers.Conv2D(filters=64, kernel_size=3, activation=\"relu\")(x5)\n",
        "x5 = layers.MaxPooling2D(pool_size=2)(x5)\n",
        "x5 = layers.Conv2D(filters=128, kernel_size=3, activation=\"relu\")(x5)\n",
        "x5 = layers.MaxPooling2D(pool_size=2)(x5)\n",
        "x5 = layers.Conv2D(filters=256, kernel_size=3, activation=\"relu\")(x5)\n",
        "x5 = layers.MaxPooling2D(pool_size=2)(x5)\n",
        "x5 = layers.Flatten()(x5)\n",
        "x5 = layers.Dropout(0.5)(x5)\n",
        "x5 = layers.Dense(7, activation=\"softmax\")(x5)\n",
        "\n",
        "model_5 = keras.Model(inputs=inputs, outputs=x5)\n",
        "\n",
        "model_5.compile(loss=\"categorical_crossentropy\",\n",
        "                optimizer=\"adam\",\n",
        "                metrics=[\"accuracy\"])"
      ],
      "metadata": {
        "id": "yLEh6oWuQ7M7"
      },
      "execution_count": 141,
      "outputs": []
    },
    {
      "cell_type": "code",
      "source": [
        "model_5.summary()"
      ],
      "metadata": {
        "colab": {
          "base_uri": "https://localhost:8080/"
        },
        "id": "COsNxwB4RAsJ",
        "outputId": "0af1ce02-8619-4a53-c855-1eb3b2b4839e"
      },
      "execution_count": 142,
      "outputs": [
        {
          "output_type": "stream",
          "name": "stdout",
          "text": [
            "Model: \"model_24\"\n",
            "_________________________________________________________________\n",
            " Layer (type)                Output Shape              Param #   \n",
            "=================================================================\n",
            " input_14 (InputLayer)       [(None, 180, 180, 3)]     0         \n",
            "                                                                 \n",
            " rescaling_4 (Rescaling)     (None, 180, 180, 3)       0         \n",
            "                                                                 \n",
            " sequential_3 (Sequential)   (None, 180, 180, 3)       0         \n",
            "                                                                 \n",
            " conv2d_33 (Conv2D)          (None, 178, 178, 32)      896       \n",
            "                                                                 \n",
            " max_pooling2d_26 (MaxPoolin  (None, 89, 89, 32)       0         \n",
            " g2D)                                                            \n",
            "                                                                 \n",
            " conv2d_34 (Conv2D)          (None, 87, 87, 64)        18496     \n",
            "                                                                 \n",
            " max_pooling2d_27 (MaxPoolin  (None, 43, 43, 64)       0         \n",
            " g2D)                                                            \n",
            "                                                                 \n",
            " conv2d_35 (Conv2D)          (None, 41, 41, 128)       73856     \n",
            "                                                                 \n",
            " max_pooling2d_28 (MaxPoolin  (None, 20, 20, 128)      0         \n",
            " g2D)                                                            \n",
            "                                                                 \n",
            " conv2d_36 (Conv2D)          (None, 18, 18, 256)       295168    \n",
            "                                                                 \n",
            " max_pooling2d_29 (MaxPoolin  (None, 9, 9, 256)        0         \n",
            " g2D)                                                            \n",
            "                                                                 \n",
            " flatten_19 (Flatten)        (None, 20736)             0         \n",
            "                                                                 \n",
            " dropout_19 (Dropout)        (None, 20736)             0         \n",
            "                                                                 \n",
            " dense_19 (Dense)            (None, 7)                 145159    \n",
            "                                                                 \n",
            "=================================================================\n",
            "Total params: 533,575\n",
            "Trainable params: 533,575\n",
            "Non-trainable params: 0\n",
            "_________________________________________________________________\n"
          ]
        }
      ]
    },
    {
      "cell_type": "code",
      "source": [
        "[model_5.layers[3].get_weights()[i].shape for i in range(2)]"
      ],
      "metadata": {
        "colab": {
          "base_uri": "https://localhost:8080/"
        },
        "id": "JHgBlC_zFq7u",
        "outputId": "55968977-5f73-4fc0-a2a0-b946d2aca09d"
      },
      "execution_count": 155,
      "outputs": [
        {
          "output_type": "execute_result",
          "data": {
            "text/plain": [
              "[(3, 3, 3, 32), (32,)]"
            ]
          },
          "metadata": {},
          "execution_count": 155
        }
      ]
    },
    {
      "cell_type": "code",
      "source": [
        "callback = keras.callbacks.EarlyStopping(monitor='val_loss',\n",
        "                                         patience=4,\n",
        "                                         restore_best_weights=True)\n",
        "\n",
        "history = model_5.fit(train_data,\n",
        "                      train_labels,\n",
        "                      batch_size=128,\n",
        "                      epochs=20,\n",
        "                      validation_split=0.2,\n",
        "                      callbacks=callback)"
      ],
      "metadata": {
        "colab": {
          "base_uri": "https://localhost:8080/"
        },
        "id": "c4Uh4esYHzRQ",
        "outputId": "a1205b8d-a9e9-4de0-dc80-b8a8500a3b47"
      },
      "execution_count": 156,
      "outputs": [
        {
          "output_type": "stream",
          "name": "stdout",
          "text": [
            "Epoch 1/20\n",
            "26/26 [==============================] - 235s 9s/step - loss: 1.2201 - accuracy: 0.6554 - val_loss: 1.0407 - val_accuracy: 0.6708\n",
            "Epoch 2/20\n",
            "26/26 [==============================] - 221s 8s/step - loss: 1.0238 - accuracy: 0.6767 - val_loss: 0.9981 - val_accuracy: 0.6708\n",
            "Epoch 3/20\n",
            "26/26 [==============================] - 226s 9s/step - loss: 1.0183 - accuracy: 0.6767 - val_loss: 0.9792 - val_accuracy: 0.6708\n",
            "Epoch 4/20\n",
            "26/26 [==============================] - 220s 8s/step - loss: 0.9806 - accuracy: 0.6767 - val_loss: 0.9607 - val_accuracy: 0.6708\n",
            "Epoch 5/20\n",
            "26/26 [==============================] - 223s 8s/step - loss: 0.9728 - accuracy: 0.6767 - val_loss: 0.9555 - val_accuracy: 0.6708\n",
            "Epoch 6/20\n",
            "26/26 [==============================] - 220s 8s/step - loss: 0.9755 - accuracy: 0.6767 - val_loss: 0.9603 - val_accuracy: 0.6708\n",
            "Epoch 7/20\n",
            "26/26 [==============================] - 221s 8s/step - loss: 0.9553 - accuracy: 0.6767 - val_loss: 0.9470 - val_accuracy: 0.6721\n",
            "Epoch 8/20\n",
            "26/26 [==============================] - 220s 8s/step - loss: 0.9703 - accuracy: 0.6763 - val_loss: 0.9292 - val_accuracy: 0.6721\n",
            "Epoch 9/20\n",
            "26/26 [==============================] - 221s 8s/step - loss: 0.9428 - accuracy: 0.6760 - val_loss: 0.9270 - val_accuracy: 0.6783\n",
            "Epoch 10/20\n",
            "26/26 [==============================] - 220s 8s/step - loss: 0.9468 - accuracy: 0.6776 - val_loss: 0.9190 - val_accuracy: 0.6721\n",
            "Epoch 11/20\n",
            "26/26 [==============================] - 221s 8s/step - loss: 0.9152 - accuracy: 0.6767 - val_loss: 0.8900 - val_accuracy: 0.6721\n",
            "Epoch 12/20\n",
            "26/26 [==============================] - 222s 9s/step - loss: 0.9011 - accuracy: 0.6776 - val_loss: 0.9250 - val_accuracy: 0.6683\n",
            "Epoch 13/20\n",
            "26/26 [==============================] - 220s 8s/step - loss: 0.8834 - accuracy: 0.6757 - val_loss: 0.8830 - val_accuracy: 0.7082\n",
            "Epoch 14/20\n",
            "26/26 [==============================] - 220s 8s/step - loss: 0.8912 - accuracy: 0.6810 - val_loss: 0.8630 - val_accuracy: 0.6933\n",
            "Epoch 15/20\n",
            "26/26 [==============================] - 221s 8s/step - loss: 0.9145 - accuracy: 0.6795 - val_loss: 0.8780 - val_accuracy: 0.6771\n",
            "Epoch 16/20\n",
            "26/26 [==============================] - 220s 8s/step - loss: 0.8690 - accuracy: 0.6826 - val_loss: 0.9002 - val_accuracy: 0.6733\n",
            "Epoch 17/20\n",
            "26/26 [==============================] - 223s 9s/step - loss: 0.8405 - accuracy: 0.6948 - val_loss: 0.7992 - val_accuracy: 0.6908\n",
            "Epoch 18/20\n",
            "26/26 [==============================] - 219s 8s/step - loss: 0.8225 - accuracy: 0.6998 - val_loss: 0.8134 - val_accuracy: 0.7195\n",
            "Epoch 19/20\n",
            "26/26 [==============================] - 220s 8s/step - loss: 0.8320 - accuracy: 0.7041 - val_loss: 0.8367 - val_accuracy: 0.6995\n",
            "Epoch 20/20\n",
            "26/26 [==============================] - 220s 8s/step - loss: 0.8090 - accuracy: 0.6988 - val_loss: 0.8250 - val_accuracy: 0.7057\n"
          ]
        }
      ]
    },
    {
      "cell_type": "code",
      "source": [
        "model_5.evaluate(valid_miniset)"
      ],
      "metadata": {
        "colab": {
          "base_uri": "https://localhost:8080/"
        },
        "id": "EU9BkjFvKiEJ",
        "outputId": "7d551615-dd62-4fb3-fced-ce0ff670a8ce"
      },
      "execution_count": 157,
      "outputs": [
        {
          "output_type": "stream",
          "name": "stdout",
          "text": [
            "47/47 [==============================] - 138s 3s/step - loss: 0.8347 - accuracy: 0.6933\n"
          ]
        },
        {
          "output_type": "execute_result",
          "data": {
            "text/plain": [
              "[0.8347283005714417, 0.6932933926582336]"
            ]
          },
          "metadata": {},
          "execution_count": 157
        }
      ]
    },
    {
      "cell_type": "markdown",
      "source": [
        "# Transfer learning"
      ],
      "metadata": {
        "id": "bE9KQgXadEZx"
      }
    },
    {
      "cell_type": "code",
      "source": [
        "model_xception = keras.applications.Xception(\n",
        "    weights='imagenet',\n",
        "    input_shape=(180,180,3),\n",
        "    include_top=False)"
      ],
      "metadata": {
        "id": "cYuDy9h2dJPZ"
      },
      "execution_count": 10,
      "outputs": []
    },
    {
      "cell_type": "code",
      "source": [
        "train_miniset = image_dataset_from_directory(\n",
        "    paths['train_data'],\n",
        "    labels = 'inferred',\n",
        "    label_mode = 'categorical',\n",
        "    color_mode = 'rgb',\n",
        "    image_size = (180, 180),\n",
        "    shuffle = True,\n",
        "    seed = 0,\n",
        "    subset = 'training',\n",
        "    validation_split = 0.9,\n",
        "    batch_size = 32,\n",
        "    crop_to_aspect_ratio = True)\n",
        "\n",
        "valid_miniset = image_dataset_from_directory(\n",
        "    paths['train_data'],\n",
        "    labels = 'inferred',\n",
        "    label_mode = 'categorical',\n",
        "    color_mode = 'rgb',\n",
        "    image_size = (180, 180),\n",
        "    shuffle = True,\n",
        "    seed = 0,\n",
        "    subset = 'validation',\n",
        "    validation_split = 0.9,\n",
        "    batch_size = 32,\n",
        "    crop_to_aspect_ratio = True)"
      ],
      "metadata": {
        "colab": {
          "base_uri": "https://localhost:8080/"
        },
        "id": "EmlORCPKjSkL",
        "outputId": "f01ba13d-1ba7-438f-b018-54bffb1232ac"
      },
      "execution_count": 27,
      "outputs": [
        {
          "output_type": "stream",
          "name": "stdout",
          "text": [
            "Found 10015 files belonging to 7 classes.\n",
            "Using 1002 files for training.\n",
            "Found 10015 files belonging to 7 classes.\n",
            "Using 9013 files for validation.\n"
          ]
        }
      ]
    },
    {
      "cell_type": "code",
      "source": [
        "# Recall that we already have our input layer and normalization layer:\n",
        "#inputs = keras.Input(shape=(180, 180, 3))\n",
        "#rescaled_inputs = layers.Rescaling(1./255)(inputs)\n",
        "\n",
        "y1 = model_xception(rescaled_inputs)\n",
        "y1 = layers.GlobalAveragePooling2D()(y1)\n",
        "y1 = layers.Dense(7, activation=\"softmax\")(y1)\n",
        "model_t_xc = keras.Model(inputs=inputs, outputs=y1)\n",
        "\n",
        "model_t_xc.compile(loss=\"categorical_crossentropy\",\n",
        "                   optimizer=\"adam\",\n",
        "                   metrics=[\"accuracy\"])"
      ],
      "metadata": {
        "id": "PVAkvp-teRz3"
      },
      "execution_count": 12,
      "outputs": []
    },
    {
      "cell_type": "code",
      "source": [
        "model_t_xc.summary()"
      ],
      "metadata": {
        "colab": {
          "base_uri": "https://localhost:8080/"
        },
        "id": "CJmdGKyjg-g9",
        "outputId": "6fc3990c-42d5-451f-b6a7-5abcd45e3a32"
      },
      "execution_count": 13,
      "outputs": [
        {
          "output_type": "stream",
          "name": "stdout",
          "text": [
            "Model: \"model\"\n",
            "_________________________________________________________________\n",
            " Layer (type)                Output Shape              Param #   \n",
            "=================================================================\n",
            " input_2 (InputLayer)        [(None, 180, 180, 3)]     0         \n",
            "                                                                 \n",
            " rescaling (Rescaling)       (None, 180, 180, 3)       0         \n",
            "                                                                 \n",
            " xception (Functional)       (None, 6, 6, 2048)        20861480  \n",
            "                                                                 \n",
            " global_average_pooling2d (G  (None, 2048)             0         \n",
            " lobalAveragePooling2D)                                          \n",
            "                                                                 \n",
            " dense (Dense)               (None, 7)                 14343     \n",
            "                                                                 \n",
            "=================================================================\n",
            "Total params: 20,875,823\n",
            "Trainable params: 20,821,295\n",
            "Non-trainable params: 54,528\n",
            "_________________________________________________________________\n"
          ]
        }
      ]
    },
    {
      "cell_type": "code",
      "source": [
        "model_xception.trainable = False"
      ],
      "metadata": {
        "id": "PSQVLVOtg1Ik"
      },
      "execution_count": 14,
      "outputs": []
    },
    {
      "cell_type": "code",
      "source": [
        "history_t1 = model_t_xc.fit(train_miniset, \n",
        "                            validation_data=valid_miniset,\n",
        "                            epochs=1)"
      ],
      "metadata": {
        "id": "9qfyXHk_hZB6"
      },
      "execution_count": null,
      "outputs": []
    },
    {
      "cell_type": "code",
      "source": [
        "model_xception.trainable = True"
      ],
      "metadata": {
        "id": "PHqwXVYdt3nc"
      },
      "execution_count": 17,
      "outputs": []
    },
    {
      "cell_type": "code",
      "source": [
        "history_t1 = model_t_xc.fit(train_miniset, \n",
        "                            validation_data=valid_miniset,\n",
        "                            epochs=1)"
      ],
      "metadata": {
        "id": "CcdR4rPKt7G3"
      },
      "execution_count": null,
      "outputs": []
    },
    {
      "cell_type": "code",
      "source": [
        "model_vgg16 = keras.applications.vgg16.VGG16(\n",
        "    weights=\"imagenet\",\n",
        "    include_top=False,\n",
        "    input_shape=(180, 180, 3))"
      ],
      "metadata": {
        "id": "iNzk7wpS4ITa"
      },
      "execution_count": 28,
      "outputs": []
    },
    {
      "cell_type": "code",
      "source": [
        "model_vgg16.summary()"
      ],
      "metadata": {
        "colab": {
          "base_uri": "https://localhost:8080/"
        },
        "id": "pzPjIU4a4Wqz",
        "outputId": "3633c6be-3496-4b94-ada8-9265e464cad6"
      },
      "execution_count": 29,
      "outputs": [
        {
          "output_type": "stream",
          "name": "stdout",
          "text": [
            "Model: \"vgg16\"\n",
            "_________________________________________________________________\n",
            " Layer (type)                Output Shape              Param #   \n",
            "=================================================================\n",
            " input_4 (InputLayer)        [(None, 180, 180, 3)]     0         \n",
            "                                                                 \n",
            " block1_conv1 (Conv2D)       (None, 180, 180, 64)      1792      \n",
            "                                                                 \n",
            " block1_conv2 (Conv2D)       (None, 180, 180, 64)      36928     \n",
            "                                                                 \n",
            " block1_pool (MaxPooling2D)  (None, 90, 90, 64)        0         \n",
            "                                                                 \n",
            " block2_conv1 (Conv2D)       (None, 90, 90, 128)       73856     \n",
            "                                                                 \n",
            " block2_conv2 (Conv2D)       (None, 90, 90, 128)       147584    \n",
            "                                                                 \n",
            " block2_pool (MaxPooling2D)  (None, 45, 45, 128)       0         \n",
            "                                                                 \n",
            " block3_conv1 (Conv2D)       (None, 45, 45, 256)       295168    \n",
            "                                                                 \n",
            " block3_conv2 (Conv2D)       (None, 45, 45, 256)       590080    \n",
            "                                                                 \n",
            " block3_conv3 (Conv2D)       (None, 45, 45, 256)       590080    \n",
            "                                                                 \n",
            " block3_pool (MaxPooling2D)  (None, 22, 22, 256)       0         \n",
            "                                                                 \n",
            " block4_conv1 (Conv2D)       (None, 22, 22, 512)       1180160   \n",
            "                                                                 \n",
            " block4_conv2 (Conv2D)       (None, 22, 22, 512)       2359808   \n",
            "                                                                 \n",
            " block4_conv3 (Conv2D)       (None, 22, 22, 512)       2359808   \n",
            "                                                                 \n",
            " block4_pool (MaxPooling2D)  (None, 11, 11, 512)       0         \n",
            "                                                                 \n",
            " block5_conv1 (Conv2D)       (None, 11, 11, 512)       2359808   \n",
            "                                                                 \n",
            " block5_conv2 (Conv2D)       (None, 11, 11, 512)       2359808   \n",
            "                                                                 \n",
            " block5_conv3 (Conv2D)       (None, 11, 11, 512)       2359808   \n",
            "                                                                 \n",
            " block5_pool (MaxPooling2D)  (None, 5, 5, 512)         0         \n",
            "                                                                 \n",
            "=================================================================\n",
            "Total params: 14,714,688\n",
            "Trainable params: 14,714,688\n",
            "Non-trainable params: 0\n",
            "_________________________________________________________________\n"
          ]
        }
      ]
    },
    {
      "cell_type": "code",
      "source": [
        "#inputs = keras.Input(shape=(180, 180, 3))\n",
        "#rescaled_inputs = layers.Rescaling(1./255)(inputs)\n",
        "\n",
        "y2 = model_vgg16(rescaled_inputs)\n",
        "y2 = layers.Flatten()(y2)\n",
        "y2 = layers.Dense(7, activation=\"softmax\")(y2)\n",
        "model_t_vgg16 = keras.Model(inputs=inputs, outputs=y2)\n",
        "\n",
        "model_t_vgg16.compile(loss=\"categorical_crossentropy\",\n",
        "                      optimizer=\"adam\",\n",
        "                      metrics=[\"accuracy\"])"
      ],
      "metadata": {
        "id": "xqEXJje64eNr"
      },
      "execution_count": 30,
      "outputs": []
    },
    {
      "cell_type": "code",
      "source": [
        "model_vgg16.trainable = True\n",
        "for layer in model_vgg16.layers[:-4]:\n",
        "    layer.trainable = False"
      ],
      "metadata": {
        "id": "aacGe6UT5L9B"
      },
      "execution_count": 31,
      "outputs": []
    },
    {
      "cell_type": "code",
      "source": [
        "history_t2 = model_t_vgg16.fit(train_miniset,\n",
        "                               epochs=10)"
      ],
      "metadata": {
        "colab": {
          "base_uri": "https://localhost:8080/"
        },
        "id": "caKc25f65WbB",
        "outputId": "88e0ff9e-ccb6-4c7b-accc-cdbd3bda3648"
      },
      "execution_count": null,
      "outputs": [
        {
          "output_type": "stream",
          "name": "stdout",
          "text": [
            "Epoch 1/10\n",
            "32/32 [==============================] - 1065s 33s/step - loss: 2.3948 - accuracy: 0.6277\n",
            "Epoch 2/10\n",
            "32/32 [==============================] - 1063s 33s/step - loss: 1.1794 - accuracy: 0.6747\n",
            "Epoch 3/10\n",
            "32/32 [==============================] - 1063s 33s/step - loss: 1.1948 - accuracy: 0.6747\n",
            "Epoch 4/10\n",
            "11/32 [=========>....................] - ETA: 11:55 - loss: 1.1410 - accuracy: 0.6648"
          ]
        }
      ]
    },
    {
      "cell_type": "code",
      "source": [
        ""
      ],
      "metadata": {
        "id": "XrLY6Gc450N2"
      },
      "execution_count": null,
      "outputs": []
    },
    {
      "cell_type": "markdown",
      "source": [
        "## Ensembling"
      ],
      "metadata": {
        "id": "dfHX14udC61l"
      }
    },
    {
      "cell_type": "code",
      "source": [
        ""
      ],
      "metadata": {
        "id": "qwdsVitpDAo0"
      },
      "execution_count": null,
      "outputs": []
    }
  ]
}